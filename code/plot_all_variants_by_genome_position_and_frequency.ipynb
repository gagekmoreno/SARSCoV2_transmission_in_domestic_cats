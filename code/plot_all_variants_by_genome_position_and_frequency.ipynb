{
 "cells": [
  {
   "cell_type": "markdown",
   "metadata": {},
   "source": [
    "# Plotting variant frequencies by genome location \n",
    " \n",
    "**Author**: Katarina Braun \n",
    "\n",
    "\n",
    "## Overview\n",
    "- This notebook combines all intersection files into a single file\n",
    "- Counts the total and total unique variants in this file \n",
    "- Plots each variant by freq and genome location \n",
    "- Also looks at amount of shared variation across cats \n",
    "\n",
    "### Reference \n",
    "\n",
    "Everything was mapped to the Japan reference sequence (MW219695.1) -- this is the consensus sequence for the inoculum that was used to infect the cats we are evaluating here. \n",
    "\n",
    "Nucleotide numbering scheme will therefore differ from the the numbering scheme used in Nextstrain. \n",
    "\n",
    "[Link](https://www.ncbi.nlm.nih.gov/nuccore/MW219695.1) to GenBank accession page for the reference sequence.\n",
    "\n",
    "[Link](https://www.nejm.org/doi/full/10.1056/nejmc2013400) to the original NEJM report on transmission of SARS-CoV-2 in domestic cats by Halfmann et al. \n",
    "\n",
    "\n",
    "## Input: \n",
    "\n",
    "1. Cleaned vcf files: \n",
    "    - `SARSCoV2_transmission_in_domestic_cats/data_derived/cleaned/*`\n",
    "\n",
    "## Output: \n",
    "\n",
    "1. CSV files with all variants and unique variats:       \n",
    "     - `SARSCoV2_transmission_in_domestic_cats/data_derived/cleaned/*`\n",
    "\n",
    "\n",
    "2. Figure plotting variants by frequency and genome location:   \n",
    "     - `SARSCoV2_in_domestic_cats/figure/variants_across_the_genome.svg`\n"
   ]
  },
  {
   "cell_type": "markdown",
   "metadata": {},
   "source": [
    "### import modules and dependencies"
   ]
  },
  {
   "cell_type": "code",
   "execution_count": 39,
   "metadata": {},
   "outputs": [],
   "source": [
    "import pandas as pd\n",
    "import numpy as np\n",
    "from sklearn.decomposition import PCA\n",
    "from sklearn import preprocessing\n",
    "import matplotlib.pyplot as plt\n",
    "import glob\n",
    "import os\n",
    "from matplotlib import pyplot\n",
    "import matplotlib.pyplot as plt\n",
    "from pathlib import Path\n",
    "from os.path import splitext\n",
    "from functools import reduce\n",
    "from pandas.api.types import is_numeric_dtype\n",
    "import warnings\n",
    "from pandas.core.common import SettingWithCopyWarning\n",
    "from matplotlib.font_manager import FontProperties \n",
    "from matplotlib import cm\n",
    "import itertools\n",
    "from matplotlib import container\n",
    "from matplotlib import gridspec\n",
    "from matplotlib.patches import Patch\n",
    "from matplotlib.lines import Line2D\n",
    "import matplotlib.lines as mlines\n",
    "import matplotlib as mpl\n",
    "from pandas.plotting import table\n",
    "\n",
    "from matplotlib.lines import Line2D\n",
    "import matplotlib.patches as mpatches"
   ]
  },
  {
   "cell_type": "markdown",
   "metadata": {},
   "source": [
    "# look at all SNPs"
   ]
  },
  {
   "cell_type": "code",
   "execution_count": 40,
   "metadata": {},
   "outputs": [],
   "source": [
    "df1_1 = pd.read_csv(\"../data_derived/cleaned/1_1-intersection.csv\", header=0, sep='\\t')\n",
    "df1_2 = pd.read_csv(\"../data_derived/cleaned/1_2-intersection.csv\", header=0, sep='\\t')\n",
    "df1_3 = pd.read_csv(\"../data_derived/cleaned/1_3-intersection.csv\", header=0, sep='\\t')\n",
    "df1_4 = pd.read_csv(\"../data_derived/cleaned/1_4-intersection.csv\", header=0, sep='\\t')\n",
    "df1_5 = pd.read_csv(\"../data_derived/cleaned/1_5-intersection.csv\", header=0, sep='\\t')\n",
    "df1_6 = pd.read_csv(\"../data_derived/cleaned/1_6-intersection.csv\", header=0, sep='\\t')\n",
    "df1_7 = pd.read_csv(\"../data_derived/cleaned/1_7-intersection.csv\", header=0, sep='\\t')\n",
    "df1_8 = pd.read_csv(\"../data_derived/cleaned/1_8-intersection.csv\", header=0, sep='\\t')\n",
    "df2_1 = pd.read_csv(\"../data_derived/cleaned/2_1-intersection.csv\", header=0, sep='\\t')\n",
    "df2_2 = pd.read_csv(\"../data_derived/cleaned/2_2-intersection.csv\", header=0, sep='\\t')\n",
    "df2_3 = pd.read_csv(\"../data_derived/cleaned/2_3-intersection.csv\", header=0, sep='\\t')\n",
    "df2_4 = pd.read_csv(\"../data_derived/cleaned/2_4-intersection.csv\", header=0, sep='\\t')\n",
    "df2_5 = pd.read_csv(\"../data_derived/cleaned/2_5-intersection.csv\", header=0, sep='\\t')\n",
    "df2_6 = pd.read_csv(\"../data_derived/cleaned/2_6-intersection.csv\", header=0, sep='\\t')\n",
    "df2_7 = pd.read_csv(\"../data_derived/cleaned/2_7-intersection.csv\", header=0, sep='\\t')\n",
    "df2_8 = pd.read_csv(\"../data_derived/cleaned/2_8-intersection.csv\", header=0, sep='\\t')\n",
    "df3_1 = pd.read_csv(\"../data_derived/cleaned/3_1-intersection.csv\", header=0, sep='\\t')\n",
    "df3_2 = pd.read_csv(\"../data_derived/cleaned/3_2-intersection.csv\", header=0, sep='\\t')\n",
    "df3_3 = pd.read_csv(\"../data_derived/cleaned/3_3-intersection.csv\", header=0, sep='\\t')\n",
    "df3_4 = pd.read_csv(\"../data_derived/cleaned/3_4-intersection.csv\", header=0, sep='\\t')\n",
    "df3_5 = pd.read_csv(\"../data_derived/cleaned/3_5-intersection.csv\", header=0, sep='\\t')\n",
    "# df3_6 = pd.read_csv(\"../data_derived/cleaned/3_6-intersection.csv\", header=0, sep='\\t')\n",
    "df3_7 = pd.read_csv(\"../data_derived/cleaned/3_7-intersection.csv\", header=0, sep='\\t')\n",
    "df3_8 = pd.read_csv(\"../data_derived/cleaned/3_8-intersection.csv\", header=0, sep='\\t')\n",
    "df4_3 = pd.read_csv(\"../data_derived/cleaned/4_3-intersection.csv\", header=0, sep='\\t')\n",
    "df4_4 = pd.read_csv(\"../data_derived/cleaned/4_4-intersection.csv\", header=0, sep='\\t')\n",
    "df4_5 = pd.read_csv(\"../data_derived/cleaned/4_5-intersection.csv\", header=0, sep='\\t')\n",
    "df4_6 = pd.read_csv(\"../data_derived/cleaned/4_6-intersection.csv\", header=0, sep='\\t')\n",
    "df4_7 = pd.read_csv(\"../data_derived/cleaned/4_7-intersection.csv\", header=0, sep='\\t')\n",
    "df4_8 = pd.read_csv(\"../data_derived/cleaned/4_8-intersection.csv\", header=0, sep='\\t')\n",
    "df4_9 = pd.read_csv(\"../data_derived/cleaned/4_9-intersection.csv\", header=0, sep='\\t')\n",
    "df4_10 = pd.read_csv(\"../data_derived/cleaned/4_10-intersection.csv\", header=0, sep='\\t')\n",
    "df5_3 = pd.read_csv(\"../data_derived/cleaned/5_3-intersection.csv\", header=0, sep='\\t')\n",
    "df5_4 = pd.read_csv(\"../data_derived/cleaned/5_4-intersection.csv\", header=0, sep='\\t')\n",
    "df5_5 = pd.read_csv(\"../data_derived/cleaned/5_5-intersection.csv\", header=0, sep='\\t')\n",
    "df5_6 = pd.read_csv(\"../data_derived/cleaned/5_6-intersection.csv\", header=0, sep='\\t')\n",
    "df5_7 = pd.read_csv(\"../data_derived/cleaned/5_7-intersection.csv\", header=0, sep='\\t')\n",
    "df5_8 = pd.read_csv(\"../data_derived/cleaned/5_8-intersection.csv\", header=0, sep='\\t')\n",
    "df5_9 = pd.read_csv(\"../data_derived/cleaned/5_9-intersection.csv\", header=0, sep='\\t')\n",
    "df5_10 = pd.read_csv(\"../data_derived/cleaned/5_10-intersection.csv\", header=0, sep='\\t')\n",
    "# df6_3 = pd.read_csv(\"../data_derived/cleaned/6_3-cleaned.csv\", header=0, sep='\\t') # no intersection here because only one replicate worked\n",
    "df6_4 = pd.read_csv(\"../data_derived/cleaned/6_4-intersection.csv\", header=0, sep='\\t')\n",
    "df6_5 = pd.read_csv(\"../data_derived/cleaned/6_5-intersection.csv\", header=0, sep='\\t')\n",
    "df6_6 = pd.read_csv(\"../data_derived/cleaned/6_6-intersection.csv\", header=0, sep='\\t')\n",
    "df6_7 = pd.read_csv(\"../data_derived/cleaned/6_7-intersection.csv\", header=0, sep='\\t')\n",
    "df6_8 = pd.read_csv(\"../data_derived/cleaned/6_8-intersection.csv\", header=0, sep='\\t')\n",
    "df6_9 = pd.read_csv(\"../data_derived/cleaned/6_9-intersection.csv\", header=0, sep='\\t')\n",
    "df6_10 = pd.read_csv(\"../data_derived/cleaned/6_10-intersection.csv\", header=0, sep='\\t')"
   ]
  },
  {
   "cell_type": "code",
   "execution_count": 72,
   "metadata": {},
   "outputs": [],
   "source": [
    "cats = [df1_1, df1_2, df1_3, df1_4, df1_5, df1_6, df1_7, df1_8, df2_1, df2_2, df2_3, df2_4, df2_5, df2_6, df2_7, df2_8, df3_1, df3_2, df3_3, df3_4, df3_5, df3_7, df3_8, df4_3, df4_4, df4_5, df4_6, df4_7, df4_8, df4_9, df4_10, df5_3, df5_4, df5_5, df5_6, df5_7, df5_8, df5_9, df5_10, df6_4, df6_5, df6_6, df6_7, df6_8, df6_9, df6_10]\n",
    "\n"
   ]
  },
  {
   "cell_type": "code",
   "execution_count": 73,
   "metadata": {},
   "outputs": [],
   "source": [
    "all_cats = pd.concat(cats)"
   ]
  },
  {
   "cell_type": "code",
   "execution_count": 74,
   "metadata": {},
   "outputs": [],
   "source": [
    "all_cats.to_csv(\"../data_derived/cleaned/all-intersection.csv\", sep='\\t')"
   ]
  },
  {
   "cell_type": "code",
   "execution_count": 75,
   "metadata": {},
   "outputs": [
    {
     "name": "stdout",
     "output_type": "stream",
     "text": [
      "191\n",
      "49\n"
     ]
    }
   ],
   "source": [
    "# save all varinats to a csv file \n",
    "all_variants = pd.read_csv(\"../data_derived/cleaned/all-intersection.csv\", sep='\\t')\n",
    "\n",
    "# find total number of variants \n",
    "print(len(all_variants)) #total number of variants #384 total variants \n",
    "\n",
    "# find number of unique varints only \n",
    "all_variants = all_variants[['SNP']]\n",
    "unique_all = all_variants.drop_duplicates(keep='first') \n",
    "print(len(unique_all)) #57 unique variants "
   ]
  },
  {
   "cell_type": "code",
   "execution_count": 76,
   "metadata": {},
   "outputs": [
    {
     "name": "stdout",
     "output_type": "stream",
     "text": [
      "61\n",
      "11\n",
      "130\n",
      "38\n"
     ]
    }
   ],
   "source": [
    "# figure out how many indels are here and how many variants are here and what % of these are unique \n",
    "\n",
    "all_variants = pd.read_csv(\"../data_derived/cleaned/all-intersection.csv\", sep='\\t')\n",
    "all_variants = all_variants.rename(columns={'POS_x':'pos', '%':'freq'})\n",
    "\n",
    "indels1 = all_variants[all_variants.SNP.str.contains('frameshift')]\n",
    "indels2 = all_variants[all_variants.SNP.str.contains('inframe-deletion')]\n",
    "indels = pd.concat([indels1, indels2], axis=0)\n",
    "indels = indels[['SNP']]\n",
    "indels.to_csv('../data_derived/cleaned/all_indels.csv', sep='\\t')\n",
    "indels_unique = indels.drop_duplicates(keep='first') #10 unique variants\n",
    "indels_unique.to_csv('../data_derived/cleaned/unique_indels.csv', sep='\\t')\n",
    "\n",
    "snvs1 = all_variants[all_variants.SNP.str.contains('missense')]\n",
    "snvs2 = all_variants[all_variants.SNP.str.contains('synonymous')]\n",
    "snvs3 = all_variants[all_variants.SNP.str.contains('intergenic')]\n",
    "snvs = pd.concat([snvs1, snvs2, snvs3], axis=0)\n",
    "snvs = snvs[['SNP']]\n",
    "snvs.to_csv('../data_derived/cleaned/all_snvs.csv', sep='\\t')\n",
    "snvs_unique = snvs.drop_duplicates(keep='first') # 47\n",
    "snvs_unique.to_csv('../data_derived/cleaned/unique_snvs.csv', sep='\\t')\n",
    "\n",
    "print(len(indels))\n",
    "print(len(indels_unique))\n",
    "print(len(snvs))\n",
    "print(len(snvs_unique))"
   ]
  },
  {
   "cell_type": "code",
   "execution_count": 77,
   "metadata": {},
   "outputs": [],
   "source": [
    "# filter the above dataframe to make splices per gene and per annotation type \n",
    "\n",
    "all_variants = pd.read_csv(\"../data_derived/cleaned/all-intersection.csv\", sep='\\t')\n",
    "all_variants = all_variants.rename(columns={'POS_x':'pos', '%':'freq'})\n",
    "\n",
    "orf1ab = all_variants[all_variants['SNP'].str.contains('ORF1ab')]\n",
    "orf1ab_synonymous = orf1ab[orf1ab['SNP'].str.contains('synonymous')]\n",
    "orf1ab_missense = orf1ab[orf1ab['SNP'].str.contains('missense')]\n",
    "orf1ab_frameshift = orf1ab[orf1ab['SNP'].str.contains('frameshift')]\n",
    "\n",
    "spike = all_variants[all_variants['SNP'].str.contains('S_')]\n",
    "spike_synonymous = spike[spike['SNP'].str.contains('synonymous')]\n",
    "spike_missense = spike[spike['SNP'].str.contains('missense')]\n",
    "spike_frameshift = spike[spike['SNP'].str.contains('frameshift')]\n",
    "\n",
    "envelope = all_variants[all_variants['SNP'].str.contains('E_')]\n",
    "envelope_synonymous = envelope[envelope['SNP'].str.contains('synonymous')]\n",
    "envelope_missense = envelope[envelope['SNP'].str.contains('missense')]\n",
    "envelope_frameshift = envelope[envelope['SNP'].str.contains('frameshift')]\n",
    "\n",
    "# membrane = all_variants[all_variants['SNP'].str.contains('M_')] #only if you include 6_3 replicate B \n",
    "# membrane_missense = membrane[membrane['SNP'].str.contains('missense')]\n",
    "\n",
    "orf7a_frameshift = all_variants[all_variants['SNP'].str.contains('ORF7a')]\n",
    "\n",
    "orf8_missense = all_variants[all_variants['SNP'].str.contains('ORF8')]\n",
    "\n",
    "N = all_variants[all_variants['SNP'].str.contains('N_')]\n",
    "N_synonymous = N[N['SNP'].str.contains('synonymous')]\n",
    "N_missense = N[N['SNP'].str.contains('missense')]\n",
    "N_frameshift = N[N['SNP'].str.contains('frameshift' or 'deletion')]\n",
    "\n",
    "intergenic = all_variants[all_variants['SNP'].str.contains('intergenic-region')]"
   ]
  },
  {
   "cell_type": "code",
   "execution_count": 78,
   "metadata": {},
   "outputs": [
    {
     "data": {
      "image/png": "[encoded data removed]",
      "text/plain": [
       "<Figure size 1600x1000 with 1 Axes>"
      ]
     },
     "metadata": {},
     "output_type": "display_data"
    }
   ],
   "source": [
    "# generate a figure with sub-plots (one for each gene segment)\n",
    "fig = plt.figure(figsize=(16,10), facecolor='w')\n",
    "plt.style.use('default')\n",
    "mpl.rc('font', family='Arial')\n",
    "gs = gridspec.GridSpec(3, 20)\n",
    "\n",
    "ax1 = fig.add_subplot(gs[0,0:9]) \n",
    "\n",
    "# get right of top and right frame of each subplot\n",
    "ax1.spines['top'].set_visible(False)\n",
    "ax1.spines['right'].set_visible(False)\n",
    "ax1.spines['bottom'].set_visible(True)\n",
    "ax1.spines['left'].set_visible(True)  \n",
    "    \n",
    "plt.scatter(orf1ab_synonymous.pos, orf1ab_synonymous.freq, marker='o', edgecolor=\"#8DA395\", facecolor='')\n",
    "plt.scatter(orf1ab_missense.pos, orf1ab_missense.freq, marker='s', edgecolor=\"#8DA395\", facecolor='')\n",
    "plt.scatter(orf1ab_frameshift.pos, orf1ab_frameshift.freq, marker='*', edgecolor=\"#8DA395\", facecolor='')\n",
    "\n",
    "plt.scatter(spike_synonymous.pos, spike_synonymous.freq, marker='o', edgecolor=\"#A86566\", facecolor='')\n",
    "plt.scatter(spike_missense.pos, spike_missense.freq, marker='s', edgecolor=\"#A86566\", facecolor='')\n",
    "plt.scatter(spike_frameshift.pos, spike_frameshift.freq, marker='*', edgecolor=\"#A86566\", facecolor='')\n",
    "\n",
    "plt.scatter(envelope_synonymous.pos, envelope_synonymous.freq, marker='o', edgecolor=\"#CB997D\", facecolor='')\n",
    "plt.scatter(envelope_missense.pos, envelope_missense.freq, marker='s', edgecolor=\"#CB997D\", facecolor='')\n",
    "plt.scatter(envelope_frameshift.pos, envelope_frameshift.freq, marker='*', edgecolor=\"#CB997D\", facecolor='')\n",
    "\n",
    "# plt.scatter(membrane_missense.pos, membrane_missense.freq, marker='s', edgecolor=\"#C4AEAD\", facecolor='')\n",
    "\n",
    "plt.scatter(orf7a_frameshift.pos, orf7a_frameshift.freq, marker='*', edgecolor=\"#715C7C\", facecolor='')\n",
    "\n",
    "plt.scatter(orf8_missense.pos, orf8_missense.freq, marker='s', edgecolor=\"#CCBA85\", facecolor='')\n",
    "\n",
    "plt.scatter(N_synonymous.pos, N_synonymous.freq, marker='o', edgecolor=\"#8B9AA0\", facecolor='')\n",
    "plt.scatter(N_missense.pos, N_missense.freq, marker='s', edgecolor=\"#8B9AA0\", facecolor='')\n",
    "plt.scatter(N_frameshift.pos, N_frameshift.freq, marker='*', edgecolor=\"#8B9AA0\", facecolor='')\n",
    "\n",
    "plt.scatter(intergenic.pos, intergenic.freq, marker='^', edgecolor=\"grey\", facecolor='')\n",
    "\n",
    "# adjust axes\n",
    "ax1.set_ylim([-0.1, 1.1])\n",
    "ax1.set_xlim([-100,30000])\n",
    "\n",
    "ax1.set_ylabel('variant frequency')\n",
    "ax1.set_xlabel('genome position')\n",
    "\n",
    "#legend\n",
    "orf1ab = mpatches.Patch(color='#8DA395', label='ORF1ab')\n",
    "spike = mpatches.Patch(color='#A86566', label='Spike')\n",
    "envelope = mpatches.Patch(color='#CB997D', label='Envelope')\n",
    "# membrane = mpatches.Patch(color='#C4AEAD', label='Membrane')\n",
    "orf7a = mpatches.Patch(color='#715C7C', label='ORF7a')\n",
    "orf8 = mpatches.Patch(color='#CCBA85', label='ORF8')\n",
    "n = mpatches.Patch(color='#8B9AA0', label='Nucleocapsid')\n",
    "intergenic_color = mpatches.Patch(color='grey', label='Intergenic')\n",
    "\n",
    "plt.legend(handles=(orf1ab, spike, envelope, orf7a, orf8, n, intergenic_color), frameon=False, bbox_to_anchor=[1.1, 1])\n",
    "\n",
    "plt.savefig(\"../figures/variants_across_the_genome.svg\", bbox_inches='tight', dpi=300)\n",
    "\n",
    "#"
   ]
  },
  {
   "cell_type": "markdown",
   "metadata": {},
   "source": [
    "# how much of this variation is shared across cats? "
   ]
  },
  {
   "cell_type": "code",
   "execution_count": 80,
   "metadata": {},
   "outputs": [
    {
     "name": "stdout",
     "output_type": "stream",
     "text": [
      "16\n"
     ]
    }
   ],
   "source": [
    "c1 = pd.read_csv('../data_derived/cleaned/cat1_snps_over_time.csv', sep='\\t')\n",
    "c1 = c1[['SNP']]\n",
    "c1_unique = c1.drop_duplicates(keep='first')\n",
    "c1_unique = c1_unique.rename(columns={'SNP':'variants_cat1'})\n",
    "print(len(c1))\n",
    "c1_unique_list = c1_unique['variants_cat1'].tolist()\n",
    "\n",
    "#"
   ]
  },
  {
   "cell_type": "code",
   "execution_count": 81,
   "metadata": {},
   "outputs": [
    {
     "name": "stdout",
     "output_type": "stream",
     "text": [
      "19\n"
     ]
    }
   ],
   "source": [
    "c2 = pd.read_csv('../data_derived/cleaned/cat2_snps_over_time.csv', sep='\\t')\n",
    "c2 = c2[['SNP']]\n",
    "c2_unique = c2.drop_duplicates(keep='first')\n",
    "c2_unique = c2_unique.rename(columns={'SNP':'variants_cat2'})\n",
    "print(len(c2))\n",
    "c2_unique_list = c2_unique['variants_cat2'].tolist()"
   ]
  },
  {
   "cell_type": "code",
   "execution_count": 82,
   "metadata": {},
   "outputs": [
    {
     "name": "stdout",
     "output_type": "stream",
     "text": [
      "16\n"
     ]
    }
   ],
   "source": [
    "c3 = pd.read_csv('../data_derived/cleaned/cat3_snps_over_time.csv', sep='\\t')\n",
    "c3 = c3[['SNP']]\n",
    "c3_unique = c3.drop_duplicates(keep='first')\n",
    "c3_unique = c3_unique.rename(columns={'SNP':'variants_cat3'})\n",
    "print(len(c3))\n",
    "c3_unique_list = c3_unique['variants_cat3'].tolist()"
   ]
  },
  {
   "cell_type": "code",
   "execution_count": 83,
   "metadata": {},
   "outputs": [
    {
     "name": "stdout",
     "output_type": "stream",
     "text": [
      "9\n"
     ]
    }
   ],
   "source": [
    "c4 = pd.read_csv('../data_derived/cleaned/cat4_snps_over_time.csv', sep='\\t')\n",
    "c4 = c4[['SNP']]\n",
    "c4_unique = c4.drop_duplicates(keep='first')\n",
    "c4_unique = c4_unique.rename(columns={'SNP':'variants_cat4'})\n",
    "print(len(c4))\n",
    "c4_unique_list = c4_unique['variants_cat4'].tolist()"
   ]
  },
  {
   "cell_type": "code",
   "execution_count": 84,
   "metadata": {},
   "outputs": [
    {
     "name": "stdout",
     "output_type": "stream",
     "text": [
      "10\n"
     ]
    }
   ],
   "source": [
    "c5 = pd.read_csv('../data_derived/cleaned/cat5_snps_over_time.csv', sep='\\t')\n",
    "c5 = c5[['SNP']]\n",
    "c5_unique = c5.drop_duplicates(keep='first')\n",
    "c5_unique = c5_unique.rename(columns={'SNP':'variants_cat5'})\n",
    "print(len(c5))\n",
    "c5_unique_list = c5_unique['variants_cat5'].tolist()"
   ]
  },
  {
   "cell_type": "code",
   "execution_count": 85,
   "metadata": {},
   "outputs": [
    {
     "name": "stdout",
     "output_type": "stream",
     "text": [
      "6\n"
     ]
    }
   ],
   "source": [
    "c6 = pd.read_csv('../data_derived/cleaned/cat6_snps_over_time.csv', sep='\\t')\n",
    "c6 = c6[['SNP']]\n",
    "c6_unique = c6.drop_duplicates(keep='first')\n",
    "c6_unique = c6_unique.rename(columns={'SNP':'variants_cat6'})\n",
    "print(len(c6))\n",
    "c6_unique_list = c6_unique['variants_cat6'].tolist()"
   ]
  },
  {
   "cell_type": "code",
   "execution_count": 87,
   "metadata": {},
   "outputs": [],
   "source": [
    "joined_unique_list = c1_unique_list + c2_unique_list + c3_unique_list + c4_unique_list + c5_unique_list + c6_unique_list\n",
    "\n",
    "#"
   ]
  },
  {
   "cell_type": "code",
   "execution_count": null,
   "metadata": {},
   "outputs": [],
   "source": []
  }
 ],
 "metadata": {
  "kernelspec": {
   "display_name": "Python 3",
   "language": "python",
   "name": "python3"
  },
  "language_info": {
   "codemirror_mode": {
    "name": "ipython",
    "version": 3
   },
   "file_extension": ".py",
   "mimetype": "text/x-python",
   "name": "python",
   "nbconvert_exporter": "python",
   "pygments_lexer": "ipython3",
   "version": "3.6.8"
  }
 },
 "nbformat": 4,
 "nbformat_minor": 4
}
