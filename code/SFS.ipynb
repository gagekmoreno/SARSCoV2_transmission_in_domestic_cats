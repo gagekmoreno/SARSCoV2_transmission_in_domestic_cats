{
 "cells": [
  {
   "cell_type": "markdown",
   "metadata": {},
   "source": [
    "# SNV Frequency Spectrum\n",
    "\n",
    "**Author**: Katarina Braun \n",
    "\n",
    "\n",
    "## Overview\n",
    "This notebook plots SNV frequency spectrums. It pulls SNVs and their frequencies from the `-cleaned.csv` files that were generated in the `data_cleaning.ipynb` script. \n",
    "\n",
    "### Reference \n",
    "\n",
    "Everything was mapped to the Japan reference sequence (MW219695.1) -- this is the consensus sequence for the inoculum that was used to infect the cats we are evaluating here. \n",
    "\n",
    "Nucleotide numbering scheme will therefore differ from the the numbering scheme used in Nextstrain. \n",
    "\n",
    "[Link](https://www.ncbi.nlm.nih.gov/nuccore/MW219695.1) to GenBank accession page for the reference sequence.\n",
    "\n",
    "[Link](https://www.nejm.org/doi/full/10.1056/nejmc2013400) to the original NEJM report on transmission of SARS-CoV-2 in domestic cats by Halfmann et al. \n",
    "\n",
    "### A useful description regarding the interpretation of these analyses \n",
    "**From Moncla et al, 2019, bioRxiv (https://doi.org/10.1101/683151):**  \n",
    "\"Purifying selection removes new variants from the population, generating an excess of low-freq variants, while positive selection promotes accumulation of high-frequency polymorphisms. Exponential population expansion also causes excess low-frequency variation; however, while selection disproportionately affects nonsynonymous variants, demographic factors affect synonymous and nonsynonymous variants equally.\"\n",
    "\n",
    "I will also try to derive the \"neutral expectation\" -- that is the distribution of SNPs expected for a given population assuming that the population is not under selection and is at some sort of steady-state equilibrium. \n",
    "\n",
    "For the neutral expectation, Trevor Bedford suggests this will follow a 1/x distribution. I can then just integrate over a 1/x distribution between each bin size (0.01 to 0.1, 0.1 to 0.2, etc...). Then I'll calculate the proportion of the total that fall into each bin. Dr. Louise Moncla (cited above) already prepared a notebook to do this: `neutral-expectation.ipynb`, which I am going to utilize here. \n",
    "    "
   ]
  },
  {
   "cell_type": "markdown",
   "metadata": {},
   "source": [
    "## import modules and dependecies "
   ]
  },
  {
   "cell_type": "code",
   "execution_count": 1,
   "metadata": {},
   "outputs": [],
   "source": [
    "import pandas as pd\n",
    "import numpy as np\n",
    "import matplotlib.pyplot as plt\n",
    "import seaborn as sns\n",
    "import matplotlib\n",
    "from itertools import cycle, islice\n",
    "import random \n",
    "from pylab import *\n",
    "from matplotlib.ticker import StrMethodFormatter\n",
    "import warnings\n",
    "warnings.simplefilter(action='ignore', category=FutureWarning)\n",
    "import csv\n",
    "import sys, subprocess, glob, os, shutil, re, importlib, Bio\n",
    "from subprocess import call\n",
    "from Bio import SeqIO\n",
    "from scipy import stats\n",
    "from scipy.integrate import quad\n",
    "import seaborn as sns\n",
    "import os\n",
    "import seaborn as sns; sns.set()\n",
    "from matplotlib import pyplot\n",
    "from functools import reduce\n",
    "import matplotlib as mpl\n",
    "from matplotlib import gridspec\n",
    "import itertools\n",
    "import pysam\n",
    "import matplotlib.patches as mpatches\n",
    "import random \n",
    "from pylab import *\n",
    "from matplotlib.font_manager import FontProperties \n",
    "from matplotlib.patches import Patch\n",
    "from matplotlib.lines import Line2D\n",
    "import matplotlib.lines as mlines\n",
    "from matplotlib import gridspec\n",
    "import random"
   ]
  },
  {
   "cell_type": "markdown",
   "metadata": {},
   "source": [
    "## Add in neutral expectation as a light grey bar\n",
    "\n",
    "The neutral expectation code is from Dr. Louise Moncla (https://github.com/lmoncla). \n",
    "\n",
    "The expectation for the proportion of variants in each frequency bin is given by a 1/x distribution. I will integrate the area under the curve for a 1/x distribution between each interval and plot this expected value."
   ]
  },
  {
   "cell_type": "code",
   "execution_count": 126,
   "metadata": {},
   "outputs": [],
   "source": [
    "# define functions \n",
    "\n",
    "from scipy.integrate import quad\n",
    "\n",
    "def integrate_over_bins(lower_bound,upper_bound):\n",
    "    # generate lambda function for 1/x\n",
    "    f= lambda x:(1/x)\n",
    "\n",
    "    # integrate between bins \n",
    "    integral = quad(f, lower_bound, upper_bound)[0]\n",
    "    return(integral)\n",
    "\n",
    "def return_area_under_curve(bins):\n",
    "\n",
    "    total_area_under_curve = 0\n",
    "    integrals = []\n",
    "    \n",
    "    for i in range(len(bins)-1):\n",
    "        lower_bound = bins[i]\n",
    "        upper_bound = bins[i+1]\n",
    "        integral = integrate_over_bins(lower_bound,upper_bound)\n",
    "        integrals.append(integral)\n",
    "        \n",
    "    total_area_under_curve = np.asarray(integrals).sum()\n",
    "    return(total_area_under_curve, integrals)\n",
    "\n",
    "def return_neutral_expectation(total_area_under_curve, integrals):\n",
    "    proportions = []\n",
    "    for i in integrals: \n",
    "        proportion = i/total_area_under_curve\n",
    "        proportions.append(proportion)\n",
    "        \n",
    "    return(proportions)"
   ]
  },
  {
   "cell_type": "code",
   "execution_count": 127,
   "metadata": {},
   "outputs": [
    {
     "name": "stdout",
     "output_type": "stream",
     "text": [
      "      bin  expected\n",
      "0   3-10%  0.427941\n",
      "1  10-20%  0.246373\n",
      "2  20-30%  0.144119\n",
      "3  30-40%  0.102254\n",
      "4  40-50%  0.079314\n"
     ]
    }
   ],
   "source": [
    "# predict neutral expectations for 10 bins \n",
    "bins = [0.03,0.1,0.2,0.3,0.4,0.5]\n",
    "total_area_under_curve, integrals = return_area_under_curve(bins)\n",
    "proportions = return_neutral_expectation(total_area_under_curve, integrals)\n",
    "neutral_df = pd.DataFrame({\"bin\":[\"3-10%\",\"10-20%\",\"20-30%\",\"30-40%\",\"40-50%\"],\"expected\":proportions})\n",
    "\n",
    "neutral_df\n",
    "\n",
    "print(neutral_df)"
   ]
  },
  {
   "cell_type": "markdown",
   "metadata": {},
   "source": [
    "## Define non-neutral functions "
   ]
  },
  {
   "cell_type": "code",
   "execution_count": 138,
   "metadata": {},
   "outputs": [],
   "source": [
    "def load_Illumina_SNVs(sample): \n",
    "    i = pd.read_csv('../data_derived/cleaned/' + sample + '-intersection.csv', sep='\\t')\n",
    "    # modify the dataframes to retain only SNP and frequency \n",
    "    # drop rows that are not SNPs\n",
    "    i = i[~i.SNP.str.contains(\"frameshift\")]\n",
    "    i = i[~i.SNP.str.contains(\"disruptive-inframe-deletion\")]\n",
    "    # drop any rows with SNPs between 97 and 100% frequency because these = fixed \n",
    "    # i've already dropped all snvs ≤3% frequency in the data cleaning stage\n",
    "    i = i[['SNP', '%']]\n",
    "    i = i[~(i['%'] >= 0.97) & (i['%'] <= 1)]\n",
    "    # sort SNPs by frequency \n",
    "    i = i.sort_values(by=['%'], ascending=False)\n",
    "#     print(i)\n",
    "    # drop the SNP column and keep frequency only, identity of the SNP doesn't matter for this \n",
    "    i = i[['%']]\n",
    "    # determine the number of SNPs so I can determine proportions\n",
    "    i_num_snps = len(i.index)\n",
    "    print(i_num_snps)\n",
    "    # count the number of SNPs within frequency bins \n",
    "    # bins: 3-10, 10-20, 20-30, 30-40, 40-50, 50-60, 60-70, 70-80, 80-90, 90-99\n",
    "    i_SFS = i.apply(pd.Series.value_counts, bins=[0.03,0.1,0.2,0.3,0.4,0.5,0.6,0.7,0.8,0.9,0.97])\n",
    "    # replace counts with proportions \n",
    "    i_SFS['proportion of SNVs'] = i_SFS['%'].div(i_num_snps)\n",
    "    i_SFS = i_SFS[['proportion of SNVs']]\n",
    "    i_SFS = i_SFS.sort_index(ascending=True)\n",
    "    i_SFS_new = i_SFS.reset_index()\n",
    "    i_SFS_new = i_SFS_new.rename(index={0:'3-10%', 1:'10-20%', 2:'20-30%', 3:'30-40%', 4:'40-50%', 5:'50-60%', 6:'60-70%', 7:'70-80%', 8:'80-90%', 9:'90-97%'})\n",
    "    i_SFS_new = i_SFS_new[['proportion of SNVs']]\n",
    "    i_SFS_new.rename(columns={'proportion of SNVs':'index'}, inplace=True)\n",
    "    return(i_SFS_new)"
   ]
  },
  {
   "cell_type": "code",
   "execution_count": 139,
   "metadata": {},
   "outputs": [
    {
     "name": "stdout",
     "output_type": "stream",
     "text": [
      "2\n",
      "2\n",
      "5\n",
      "4\n",
      "4\n",
      "5\n",
      "4\n",
      "2\n",
      "1\n",
      "1\n",
      "1\n",
      "1\n",
      "2\n",
      "3\n",
      "0\n",
      "1\n"
     ]
    }
   ],
   "source": [
    "# run the above function on all samples\n",
    "df1_1 = load_Illumina_SNVs('1_1')\n",
    "df1_2 = load_Illumina_SNVs('1_2')\n",
    "df1_3 = load_Illumina_SNVs('1_3')\n",
    "df1_4 = load_Illumina_SNVs('1_4')\n",
    "df1_5 = load_Illumina_SNVs('1_5')\n",
    "df1_6 = load_Illumina_SNVs('1_6')\n",
    "df1_7 = load_Illumina_SNVs('1_7')\n",
    "df1_8 = load_Illumina_SNVs('1_8')\n",
    "\n",
    "df4_3 = load_Illumina_SNVs('4_3')\n",
    "df4_4 = load_Illumina_SNVs('4_4')\n",
    "df4_5 = load_Illumina_SNVs('4_5')\n",
    "df4_6 = load_Illumina_SNVs('4_6')\n",
    "df4_7 = load_Illumina_SNVs('4_7')\n",
    "df4_8 = load_Illumina_SNVs('4_8')\n",
    "df4_9 = load_Illumina_SNVs('4_9')\n",
    "df4_10 = load_Illumina_SNVs('4_10')\n",
    "\n",
    "#"
   ]
  },
  {
   "cell_type": "code",
   "execution_count": 208,
   "metadata": {},
   "outputs": [],
   "source": [
    "# concatenate all dataframes \n",
    "df1 = pd.concat([df1_1, df1_2, df1_3, df1_4, df1_5, df1_6, df1_7, df1_8], axis=1)\n",
    "df1 = df1.loc[['3-10%', '10-20%', '20-30%', '30-40%', '40-50%'], :]\n",
    "\n",
    "# find average and std dev across rows \n",
    "df1['avg'] = df1.mean(axis=1)\n",
    "df1['std'] = df1.std(axis=1)\n",
    "df_avg1 = df1[['avg']]\n",
    "df_std1 = df1[['std']]\n",
    "\n",
    "# concatenate all dataframes \n",
    "df4 = pd.concat([df4_3, df4_4, df4_5, df4_6, df4_7, df4_8, df4_9, df4_10], axis=1)\n",
    "df4 = df4.loc[['3-10%', '10-20%', '20-30%', '30-40%', '40-50%'], :]\n",
    "\n",
    "# find average and std dev across rows \n",
    "df4['avg'] = df4.mean(axis=1)\n",
    "df4['std'] = df4.std(axis=1)\n",
    "df_avg4 = df4[['avg']]\n",
    "df_std4 = df4[['std']]\n",
    "\n",
    "# df1\n",
    "\n",
    "#"
   ]
  },
  {
   "cell_type": "markdown",
   "metadata": {},
   "source": [
    "## Generate SFS Plots"
   ]
  },
  {
   "cell_type": "code",
   "execution_count": 141,
   "metadata": {
    "scrolled": true
   },
   "outputs": [
    {
     "name": "stderr",
     "output_type": "stream",
     "text": [
      "/Users/katbraun/anaconda3/lib/python3.6/site-packages/matplotlib/figure.py:445: UserWarning: Matplotlib is currently using module://ipykernel.pylab.backend_inline, which is a non-GUI backend, so cannot show the figure.\n",
      "  % get_backend())\n"
     ]
    },
    {
     "data": {
      "image/png": "[encoded data removed]",
      "text/plain": [
       "<Figure size 1200x800 with 2 Axes>"
      ]
     },
     "metadata": {},
     "output_type": "display_data"
    }
   ],
   "source": [
    "# generate a figure with sub-plots (one for each gene segment)\n",
    "fig = plt.figure(figsize=(8,8), facecolor='w')\n",
    "plt.style.use('default')\n",
    "mpl.rc('font', family='Arial')\n",
    "gs = gridspec.GridSpec(2, 8)\n",
    "\n",
    "ax1 = fig.add_subplot(gs[0,0:4]) # index\n",
    "ax2 = fig.add_subplot(gs[0,4:8]) # contact\n",
    "\n",
    "# get right of top and right frame of each subplot\n",
    "axes = (ax1, ax2)\n",
    "for ax in axes:\n",
    "    ax.spines['top'].set_visible(False)\n",
    "    ax.spines['right'].set_visible(False)\n",
    "    ax.spines['bottom'].set_visible(True)\n",
    "    ax.spines['left'].set_visible(True)\n",
    "    \n",
    "# set fontsize of axes \n",
    "ax = plt.gca()\n",
    "for ax in axes: \n",
    "    ax.tick_params(axis = 'both', which = 'major', labelsize = 14)\n",
    "    ax.tick_params(axis = 'both', which = 'minor', labelsize = 14)\n",
    "\n",
    "# get right of top and right frame of each subplot\n",
    "ax1.spines['top'].set_visible(False)\n",
    "ax1.spines['right'].set_visible(False)\n",
    "ax1.spines['bottom'].set_visible(True)\n",
    "ax1.spines['left'].set_visible(True)\n",
    "\n",
    "ax2.spines['top'].set_visible(False)\n",
    "ax2.spines['right'].set_visible(False)\n",
    "ax2.spines['bottom'].set_visible(True)\n",
    "ax2.spines['left'].set_visible(True)\n",
    "\n",
    "# primary_NP_swab_Illumina\n",
    "df_avg1.plot(kind='bar', yerr=df_std1['std'], ecolor='#A5628D', capsize=3, grid=False, color='#A5628D', figsize=(12,8), width=0.9, alpha=0.8, ax=ax1, legend=False)\n",
    "df_avg4.plot(kind='bar', yerr=df_std4['std'], ecolor='#A5628D', capsize=3, grid=False, color='#A5628D', figsize=(12,8), width=0.9, alpha=0.8, ax=ax2, legend=False)\n",
    "\n",
    "ax1.set_title('index - cat 1', fontname='Arial', fontsize=14)\n",
    "ax1.set_facecolor('white')\n",
    "for tick in ax1.get_xticklabels():\n",
    "    tick.set_fontname(\"Arial\")\n",
    "for tick in ax1.get_yticklabels():\n",
    "    tick.set_fontname(\"Arial\")\n",
    "ax1.set_ylim(0,1.0)\n",
    "ax1.set_yticks([0, 0.2, 0.4, 0.6, 0.8, 1.0])\n",
    "ax1.set_ylabel('proportion of SNVs', fontname='Arial', fontsize=14)\n",
    "ax1.set_xlabel('', fontname='Arial', fontsize=14)\n",
    "ax1.set_xticklabels(['3-10%', '10-20%', '20-30%', '30-40%', '40-50%'], fontname='Arial', fontsize=14, minor=False, rotation=45)\n",
    "\n",
    "ax2.set_title('contact - cat 4', fontname='Arial', fontsize=14)\n",
    "ax2.set_facecolor('white')\n",
    "for tick in ax2.get_xticklabels():\n",
    "    tick.set_fontname(\"Arial\")\n",
    "for tick in ax2.get_yticklabels():\n",
    "    tick.set_fontname(\"Arial\")\n",
    "ax2.set_ylim(0,1.0)\n",
    "ax2.set_yticks([0, 0.2, 0.4, 0.6, 0.8, 1.0])\n",
    "ax2.set_ylabel('proportion of SNVs', fontname='Arial', fontsize=14)\n",
    "ax2.set_xlabel('', fontname='Arial', fontsize=14)\n",
    "ax2.set_xticklabels(['3-10%', '10-20%', '20-30%', '30-40%', '40-50%', '50-60%'], fontname='Arial', fontsize=14, minor=False, rotation=45)\n",
    "\n",
    "# plot neutral expectation\n",
    "neutral_df.plot(kind='bar', grid=False, color='lightgrey', figsize=(12,8), width=0.9, alpha=0.5, ax=ax1, legend=False, label=None)\n",
    "ax1.set_xticklabels(['3-10%', '10-20%', '20-30%', '30-40%', '40-50%'], fontname='Arial', fontsize=14, minor=False, rotation=45)\n",
    "\n",
    "ax1.set_xlabel(\"\")\n",
    "ax2.set_xlabel(\"\")\n",
    "\n",
    "# use tight_layout to optimize spacing of axes and titles within each subplot\n",
    "fig.tight_layout()\n",
    "fig.show()\n",
    "\n",
    "# save this plot to the figures folder \n",
    "fig.savefig(\"../figures/SFS_pair1.svg\", bbox_inches='tight', dpi=300)"
   ]
  },
  {
   "cell_type": "code",
   "execution_count": 142,
   "metadata": {},
   "outputs": [
    {
     "name": "stdout",
     "output_type": "stream",
     "text": [
      "4\n",
      "5\n",
      "5\n",
      "2\n",
      "5\n",
      "3\n",
      "4\n",
      "5\n",
      "0\n",
      "1\n",
      "1\n",
      "1\n",
      "1\n",
      "1\n",
      "1\n",
      "1\n"
     ]
    }
   ],
   "source": [
    "# run the above function on all samples\n",
    "df2_1 = load_Illumina_SNVs('2_1')\n",
    "df2_2 = load_Illumina_SNVs('2_2')\n",
    "df2_3 = load_Illumina_SNVs('2_3')\n",
    "df2_4 = load_Illumina_SNVs('2_4')\n",
    "df2_5 = load_Illumina_SNVs('2_5')\n",
    "df2_6 = load_Illumina_SNVs('2_6')\n",
    "df2_7 = load_Illumina_SNVs('2_7')\n",
    "df2_8 = load_Illumina_SNVs('2_8')\n",
    "\n",
    "df5_3 = load_Illumina_SNVs('5_3')\n",
    "df5_4 = load_Illumina_SNVs('5_4')\n",
    "df5_5 = load_Illumina_SNVs('5_5')\n",
    "df5_6 = load_Illumina_SNVs('5_6')\n",
    "df5_7 = load_Illumina_SNVs('5_7')\n",
    "df5_8 = load_Illumina_SNVs('5_8')\n",
    "df5_9 = load_Illumina_SNVs('5_9')\n",
    "df5_10 = load_Illumina_SNVs('5_10')\n",
    "\n",
    "#"
   ]
  },
  {
   "cell_type": "code",
   "execution_count": 143,
   "metadata": {},
   "outputs": [],
   "source": [
    "# concatenate all dataframes \n",
    "df2 = pd.concat([df2_1, df2_2, df2_3, df2_4, df2_5, df2_6, df2_7, df2_8], axis=1)\n",
    "df2 = df2.loc[['3-10%', '10-20%', '20-30%', '30-40%', '40-50%'], :]\n",
    "\n",
    "# find average and std dev across rows \n",
    "df2['avg'] = df2.mean(axis=1)\n",
    "df2['std'] = df2.std(axis=1)\n",
    "df_avg2 = df2[['avg']]\n",
    "df_std2 = df2[['std']]\n",
    "\n",
    "# concatenate all dataframes \n",
    "df5 = pd.concat([df5_3, df5_4, df5_5, df5_6, df5_7, df5_8, df5_9, df5_10], axis=1)\n",
    "df5 = df5.loc[['3-10%', '10-20%', '20-30%', '30-40%', '40-50%'], :]\n",
    "\n",
    "# find average and std dev across rows \n",
    "df5['avg'] = df5.mean(axis=1)\n",
    "df5['std'] = df5.std(axis=1)\n",
    "df_avg5 = df5[['avg']]\n",
    "df_std5 = df5[['std']]\n",
    "\n",
    "#"
   ]
  },
  {
   "cell_type": "code",
   "execution_count": 144,
   "metadata": {},
   "outputs": [
    {
     "name": "stderr",
     "output_type": "stream",
     "text": [
      "/Users/katbraun/anaconda3/lib/python3.6/site-packages/matplotlib/figure.py:445: UserWarning: Matplotlib is currently using module://ipykernel.pylab.backend_inline, which is a non-GUI backend, so cannot show the figure.\n",
      "  % get_backend())\n"
     ]
    },
    {
     "data": {
      "image/png": "[encoded data removed]",
      "text/plain": [
       "<Figure size 1200x800 with 2 Axes>"
      ]
     },
     "metadata": {},
     "output_type": "display_data"
    }
   ],
   "source": [
    "# generate a figure with sub-plots (one for each gene segment)\n",
    "fig = plt.figure(figsize=(8,8), facecolor='w')\n",
    "plt.style.use('default')\n",
    "mpl.rc('font', family='Arial')\n",
    "gs = gridspec.GridSpec(2, 8)\n",
    "\n",
    "ax1 = fig.add_subplot(gs[0,0:4]) # index\n",
    "ax2 = fig.add_subplot(gs[0,4:8]) # contact\n",
    "\n",
    "# get right of top and right frame of each subplot\n",
    "axes = (ax1, ax2)\n",
    "for ax in axes:\n",
    "    ax.spines['top'].set_visible(False)\n",
    "    ax.spines['right'].set_visible(False)\n",
    "    ax.spines['bottom'].set_visible(True)\n",
    "    ax.spines['left'].set_visible(True)\n",
    "    \n",
    "# set fontsize of axes \n",
    "ax = plt.gca()\n",
    "for ax in axes: \n",
    "    ax.tick_params(axis = 'both', which = 'major', labelsize = 14)\n",
    "    ax.tick_params(axis = 'both', which = 'minor', labelsize = 14)\n",
    "\n",
    "# get right of top and right frame of each subplot\n",
    "ax1.spines['top'].set_visible(False)\n",
    "ax1.spines['right'].set_visible(False)\n",
    "ax1.spines['bottom'].set_visible(True)\n",
    "ax1.spines['left'].set_visible(True)\n",
    "\n",
    "ax2.spines['top'].set_visible(False)\n",
    "ax2.spines['right'].set_visible(False)\n",
    "ax2.spines['bottom'].set_visible(True)\n",
    "ax2.spines['left'].set_visible(True)\n",
    "\n",
    "# primary_NP_swab_Illumina\n",
    "df_avg2.plot(kind='bar', yerr=df_std2['std'], ecolor='#2D3047', capsize=3, grid=False, color='#2D3047', figsize=(12,8), width=0.9, alpha=0.8, ax=ax1, legend=False)\n",
    "df_avg5.plot(kind='bar', yerr=df_std5['std'], ecolor='#2D3047', capsize=3, grid=False, color='#2D3047', figsize=(12,8), width=0.9, alpha=0.8, ax=ax2, legend=False)\n",
    "\n",
    "ax1.set_title('index - cat 2', fontname='Arial', fontsize=14)\n",
    "ax1.set_facecolor('white')\n",
    "for tick in ax1.get_xticklabels():\n",
    "    tick.set_fontname(\"Arial\")\n",
    "for tick in ax1.get_yticklabels():\n",
    "    tick.set_fontname(\"Arial\")\n",
    "ax1.set_ylim(0,1.0)\n",
    "ax1.set_yticks([0, 0.2, 0.4, 0.6, 0.8, 1.0])\n",
    "ax1.set_ylabel('proportion of SNVs', fontname='Arial', fontsize=14)\n",
    "ax1.set_xlabel('', fontname='Arial', fontsize=14)\n",
    "ax1.set_xticklabels(['3-10%', '10-20%', '20-30%', '30-40%', '40-50%'], fontname='Arial', fontsize=14, minor=False, rotation=45)\n",
    "\n",
    "ax2.set_title('contact - cat 5', fontname='Arial', fontsize=14)\n",
    "ax2.set_facecolor('white')\n",
    "for tick in ax2.get_xticklabels():\n",
    "    tick.set_fontname(\"Arial\")\n",
    "for tick in ax2.get_yticklabels():\n",
    "    tick.set_fontname(\"Arial\")\n",
    "ax2.set_ylim(0,1.0)\n",
    "ax2.set_yticks([0, 0.2, 0.4, 0.6, 0.8, 1.0])\n",
    "ax2.set_ylabel('proportion of SNVs', fontname='Arial', fontsize=14)\n",
    "ax2.set_xlabel('', fontname='Arial', fontsize=14)\n",
    "ax2.set_xticklabels(['3-10%', '10-20%', '20-30%', '30-40%', '40-50%'], fontname='Arial', fontsize=14, minor=False, rotation=45)\n",
    "\n",
    "# plot neutral expectation\n",
    "neutral_df.plot(kind='bar', grid=False, color='lightgrey', figsize=(12,8), width=0.9, alpha=0.5, ax=ax1, legend=False, label=None)\n",
    "ax1.set_xticklabels(['3-10%', '10-20%', '20-30%', '30-40%', '40-50%'], fontname='Arial', fontsize=14, minor=False, rotation=45)\n",
    "\n",
    "ax1.set_xlabel(\"\")\n",
    "ax2.set_xlabel(\"\")\n",
    "\n",
    "# use tight_layout to optimize spacing of axes and titles within each subplot\n",
    "fig.tight_layout()\n",
    "fig.show()\n",
    "\n",
    "# save this plot to the figures folder \n",
    "fig.savefig(\"../figures/SFS_pair2.svg\", bbox_inches='tight', dpi=300)"
   ]
  },
  {
   "cell_type": "code",
   "execution_count": 145,
   "metadata": {},
   "outputs": [
    {
     "name": "stdout",
     "output_type": "stream",
     "text": [
      "3\n",
      "6\n",
      "6\n",
      "3\n",
      "5\n",
      "6\n",
      "1\n",
      "0\n",
      "2\n",
      "0\n",
      "0\n",
      "4\n",
      "0\n",
      "0\n"
     ]
    }
   ],
   "source": [
    "# run the above function on all samples\n",
    "df3_1 = load_Illumina_SNVs('3_1')\n",
    "df3_2 = load_Illumina_SNVs('3_2')\n",
    "df3_3 = load_Illumina_SNVs('3_3')\n",
    "df3_4 = load_Illumina_SNVs('3_4')\n",
    "df3_5 = load_Illumina_SNVs('3_5')\n",
    "# df3_6 = load_Illumina_SNVs('3_6')\n",
    "df3_7 = load_Illumina_SNVs('3_7')\n",
    "df3_8 = load_Illumina_SNVs('3_8')\n",
    "\n",
    "# df6_3 = load_Illumina_SNVs('6_3')\n",
    "df6_4 = load_Illumina_SNVs('6_4')\n",
    "df6_5 = load_Illumina_SNVs('6_5')\n",
    "df6_6 = load_Illumina_SNVs('6_6')\n",
    "df6_7 = load_Illumina_SNVs('6_7')\n",
    "df6_8 = load_Illumina_SNVs('6_8')\n",
    "df6_9 = load_Illumina_SNVs('6_9')\n",
    "df6_10 = load_Illumina_SNVs('6_10')\n",
    "\n",
    "#"
   ]
  },
  {
   "cell_type": "code",
   "execution_count": 146,
   "metadata": {},
   "outputs": [],
   "source": [
    "# concatenate all dataframes \n",
    "df3 = pd.concat([df3_1, df3_2, df3_3, df3_4, df3_5, df3_7, df3_8], axis=1)\n",
    "df3 = df3.loc[['3-10%', '10-20%', '20-30%', '30-40%', '40-50%'], :]\n",
    "\n",
    "# find average and std dev across rows \n",
    "df3['avg'] = df3.mean(axis=1)\n",
    "df3['std'] = df3.std(axis=1)\n",
    "df_avg3 = df3[['avg']]\n",
    "df_std3 = df3[['std']]\n",
    "\n",
    "# concatenate all dataframes \n",
    "df6 = pd.concat([df6_4, df6_5, df6_6, df6_7, df6_8, df6_9, df6_10], axis=1)\n",
    "df6 = df6.loc[['3-10%', '10-20%', '20-30%', '30-40%', '40-50%'], :]\n",
    "\n",
    "# find average and std dev across rows \n",
    "df6['avg'] = df6.mean(axis=1)\n",
    "df6['std'] = df6.std(axis=1)\n",
    "df_avg6 = df6[['avg']]\n",
    "df_std6 = df6[['std']]\n",
    "\n",
    "#"
   ]
  },
  {
   "cell_type": "code",
   "execution_count": 147,
   "metadata": {},
   "outputs": [
    {
     "name": "stderr",
     "output_type": "stream",
     "text": [
      "/Users/katbraun/anaconda3/lib/python3.6/site-packages/matplotlib/figure.py:445: UserWarning: Matplotlib is currently using module://ipykernel.pylab.backend_inline, which is a non-GUI backend, so cannot show the figure.\n",
      "  % get_backend())\n"
     ]
    },
    {
     "data": {
      "image/png": "[encoded data removed]",
      "text/plain": [
       "<Figure size 1200x800 with 2 Axes>"
      ]
     },
     "metadata": {},
     "output_type": "display_data"
    }
   ],
   "source": [
    "# generate a figure with sub-plots (one for each gene segment)\n",
    "fig = plt.figure(figsize=(8,8), facecolor='w')\n",
    "plt.style.use('default')\n",
    "mpl.rc('font', family='Arial')\n",
    "gs = gridspec.GridSpec(2, 8)\n",
    "\n",
    "ax1 = fig.add_subplot(gs[0,0:4]) # index\n",
    "ax2 = fig.add_subplot(gs[0,4:8]) # contact\n",
    "\n",
    "# get right of top and right frame of each subplot\n",
    "axes = (ax1, ax2)\n",
    "for ax in axes:\n",
    "    ax.spines['top'].set_visible(False)\n",
    "    ax.spines['right'].set_visible(False)\n",
    "    ax.spines['bottom'].set_visible(True)\n",
    "    ax.spines['left'].set_visible(True)\n",
    "    \n",
    "# set fontsize of axes \n",
    "ax = plt.gca()\n",
    "for ax in axes: \n",
    "    ax.tick_params(axis = 'both', which = 'major', labelsize = 14)\n",
    "    ax.tick_params(axis = 'both', which = 'minor', labelsize = 14)\n",
    "\n",
    "# get right of top and right frame of each subplot\n",
    "ax1.spines['top'].set_visible(False)\n",
    "ax1.spines['right'].set_visible(False)\n",
    "ax1.spines['bottom'].set_visible(True)\n",
    "ax1.spines['left'].set_visible(True)\n",
    "\n",
    "ax2.spines['top'].set_visible(False)\n",
    "ax2.spines['right'].set_visible(False)\n",
    "ax2.spines['bottom'].set_visible(True)\n",
    "ax2.spines['left'].set_visible(True)\n",
    "\n",
    "# primary_NP_swab_Illumina\n",
    "df_avg3.plot(kind='bar', yerr=df_std3['std'], ecolor='#42797C', capsize=3, grid=False, color='#42797C', figsize=(12,8), width=0.9, alpha=0.8, ax=ax1, legend=False)\n",
    "df_avg6.plot(kind='bar', yerr=df_std6['std'], ecolor='#42797C', capsize=3, grid=False, color='#42797C', figsize=(12,8), width=0.9, alpha=0.8, ax=ax2, legend=False)\n",
    "\n",
    "ax1.set_title('index - cat 3', fontname='Arial', fontsize=14)\n",
    "ax1.set_facecolor('white')\n",
    "for tick in ax1.get_xticklabels():\n",
    "    tick.set_fontname(\"Arial\")\n",
    "for tick in ax1.get_yticklabels():\n",
    "    tick.set_fontname(\"Arial\")\n",
    "ax1.set_ylim(0,1.0)\n",
    "ax1.set_yticks([0, 0.2, 0.4, 0.6, 0.8, 1.0])\n",
    "ax1.set_ylabel('proportion of SNVs', fontname='Arial', fontsize=14)\n",
    "ax1.set_xlabel('', fontname='Arial', fontsize=14)\n",
    "ax1.set_xticklabels(['3-10%', '10-20%', '20-30%', '30-40%', '40-50%'], fontname='Arial', fontsize=14, minor=False, rotation=45)\n",
    "\n",
    "ax2.set_title('contact - cat 6', fontname='Arial', fontsize=14)\n",
    "ax2.set_facecolor('white')\n",
    "for tick in ax2.get_xticklabels():\n",
    "    tick.set_fontname(\"Arial\")\n",
    "for tick in ax2.get_yticklabels():\n",
    "    tick.set_fontname(\"Arial\")\n",
    "ax2.set_ylim(0,1.0)\n",
    "ax2.set_yticks([0, 0.2, 0.4, 0.6, 0.8, 1.0])\n",
    "ax2.set_ylabel('proportion of SNVs', fontname='Arial', fontsize=14)\n",
    "ax2.set_xlabel('', fontname='Arial', fontsize=14)\n",
    "ax2.set_xticklabels(['3-10%', '10-20%', '20-30%', '30-40%', '40-50%'], fontname='Arial', fontsize=14, minor=False, rotation=45)\n",
    "\n",
    "# plot neutral expectation\n",
    "neutral_df.plot(kind='bar', grid=False, color='lightgrey', figsize=(12,8), width=0.9, alpha=0.5, ax=ax1, legend=False, label=None)\n",
    "ax1.set_xticklabels(['3-10%', '10-20%', '20-30%', '30-40%', '40-50%'], fontname='Arial', fontsize=14, minor=False, rotation=45)\n",
    "\n",
    "ax1.set_xlabel(\"\")\n",
    "ax2.set_xlabel(\"\")\n",
    "\n",
    "# use tight_layout to optimize spacing of axes and titles within each subplot\n",
    "fig.tight_layout()\n",
    "fig.show()\n",
    "\n",
    "# save this plot to the figures folder \n",
    "fig.savefig(\"../figures/SFS_pair3.svg\", bbox_inches='tight', dpi=300)"
   ]
  },
  {
   "cell_type": "markdown",
   "metadata": {},
   "source": [
    "# SFS tables - compare neutral expectation vs SFS in index cats"
   ]
  },
  {
   "cell_type": "code",
   "execution_count": 148,
   "metadata": {},
   "outputs": [
    {
     "data": {
      "text/html": [
       "<div>\n",
       "<style scoped>\n",
       "    .dataframe tbody tr th:only-of-type {\n",
       "        vertical-align: middle;\n",
       "    }\n",
       "\n",
       "    .dataframe tbody tr th {\n",
       "        vertical-align: top;\n",
       "    }\n",
       "\n",
       "    .dataframe thead th {\n",
       "        text-align: right;\n",
       "    }\n",
       "</style>\n",
       "<table border=\"1\" class=\"dataframe\">\n",
       "  <thead>\n",
       "    <tr style=\"text-align: right;\">\n",
       "      <th></th>\n",
       "      <th>DPI 1</th>\n",
       "      <th>DPI 2</th>\n",
       "      <th>DPI 3</th>\n",
       "      <th>DPI 4</th>\n",
       "      <th>DPI 5</th>\n",
       "      <th>DPI 6</th>\n",
       "      <th>DPI 7</th>\n",
       "      <th>DPI 8</th>\n",
       "      <th>avg</th>\n",
       "      <th>std</th>\n",
       "    </tr>\n",
       "  </thead>\n",
       "  <tbody>\n",
       "    <tr>\n",
       "      <th>3-10%</th>\n",
       "      <td>0.0</td>\n",
       "      <td>0.0</td>\n",
       "      <td>0.4</td>\n",
       "      <td>0.50</td>\n",
       "      <td>0.25</td>\n",
       "      <td>0.4</td>\n",
       "      <td>0.00</td>\n",
       "      <td>0.0</td>\n",
       "      <td>0.19375</td>\n",
       "      <td>0.203773</td>\n",
       "    </tr>\n",
       "    <tr>\n",
       "      <th>10-20%</th>\n",
       "      <td>0.0</td>\n",
       "      <td>0.0</td>\n",
       "      <td>0.2</td>\n",
       "      <td>0.25</td>\n",
       "      <td>0.25</td>\n",
       "      <td>0.4</td>\n",
       "      <td>0.75</td>\n",
       "      <td>0.0</td>\n",
       "      <td>0.23125</td>\n",
       "      <td>0.239710</td>\n",
       "    </tr>\n",
       "    <tr>\n",
       "      <th>20-30%</th>\n",
       "      <td>0.5</td>\n",
       "      <td>0.5</td>\n",
       "      <td>0.0</td>\n",
       "      <td>0.00</td>\n",
       "      <td>0.00</td>\n",
       "      <td>0.2</td>\n",
       "      <td>0.00</td>\n",
       "      <td>0.0</td>\n",
       "      <td>0.15000</td>\n",
       "      <td>0.212132</td>\n",
       "    </tr>\n",
       "    <tr>\n",
       "      <th>30-40%</th>\n",
       "      <td>0.0</td>\n",
       "      <td>0.0</td>\n",
       "      <td>0.0</td>\n",
       "      <td>0.00</td>\n",
       "      <td>0.25</td>\n",
       "      <td>0.0</td>\n",
       "      <td>0.00</td>\n",
       "      <td>0.0</td>\n",
       "      <td>0.03125</td>\n",
       "      <td>0.082680</td>\n",
       "    </tr>\n",
       "    <tr>\n",
       "      <th>40-50%</th>\n",
       "      <td>0.5</td>\n",
       "      <td>0.0</td>\n",
       "      <td>0.2</td>\n",
       "      <td>0.00</td>\n",
       "      <td>0.00</td>\n",
       "      <td>0.0</td>\n",
       "      <td>0.00</td>\n",
       "      <td>0.0</td>\n",
       "      <td>0.08750</td>\n",
       "      <td>0.169097</td>\n",
       "    </tr>\n",
       "  </tbody>\n",
       "</table>\n",
       "</div>"
      ],
      "text/plain": [
       "        DPI 1  DPI 2  DPI 3  DPI 4  DPI 5  DPI 6  DPI 7  DPI 8      avg  \\\n",
       "3-10%     0.0    0.0    0.4   0.50   0.25    0.4   0.00    0.0  0.19375   \n",
       "10-20%    0.0    0.0    0.2   0.25   0.25    0.4   0.75    0.0  0.23125   \n",
       "20-30%    0.5    0.5    0.0   0.00   0.00    0.2   0.00    0.0  0.15000   \n",
       "30-40%    0.0    0.0    0.0   0.00   0.25    0.0   0.00    0.0  0.03125   \n",
       "40-50%    0.5    0.0    0.2   0.00   0.00    0.0   0.00    0.0  0.08750   \n",
       "\n",
       "             std  \n",
       "3-10%   0.203773  \n",
       "10-20%  0.239710  \n",
       "20-30%  0.212132  \n",
       "30-40%  0.082680  \n",
       "40-50%  0.169097  "
      ]
     },
     "execution_count": 148,
     "metadata": {},
     "output_type": "execute_result"
    }
   ],
   "source": [
    "df1.columns = ['DPI 1', 'DPI 2', 'DPI 3', 'DPI 4', 'DPI 5', 'DPI 6', 'DPI 7', 'DPI 8', 'avg', 'std']\n",
    "df1"
   ]
  },
  {
   "cell_type": "code",
   "execution_count": 149,
   "metadata": {},
   "outputs": [
    {
     "data": {
      "text/html": [
       "<div>\n",
       "<style scoped>\n",
       "    .dataframe tbody tr th:only-of-type {\n",
       "        vertical-align: middle;\n",
       "    }\n",
       "\n",
       "    .dataframe tbody tr th {\n",
       "        vertical-align: top;\n",
       "    }\n",
       "\n",
       "    .dataframe thead th {\n",
       "        text-align: right;\n",
       "    }\n",
       "</style>\n",
       "<table border=\"1\" class=\"dataframe\">\n",
       "  <thead>\n",
       "    <tr style=\"text-align: right;\">\n",
       "      <th></th>\n",
       "      <th>DPI 1</th>\n",
       "      <th>DPI 2</th>\n",
       "      <th>DPI 3</th>\n",
       "      <th>DPI 4</th>\n",
       "      <th>DPI 5</th>\n",
       "      <th>DPI 6</th>\n",
       "      <th>DPI 7</th>\n",
       "      <th>DPI 8</th>\n",
       "      <th>avg</th>\n",
       "      <th>std</th>\n",
       "    </tr>\n",
       "  </thead>\n",
       "  <tbody>\n",
       "    <tr>\n",
       "      <th>3-10%</th>\n",
       "      <td>0.00</td>\n",
       "      <td>0.8</td>\n",
       "      <td>0.4</td>\n",
       "      <td>0.0</td>\n",
       "      <td>0.6</td>\n",
       "      <td>0.333333</td>\n",
       "      <td>0.5</td>\n",
       "      <td>0.6</td>\n",
       "      <td>0.404167</td>\n",
       "      <td>0.267933</td>\n",
       "    </tr>\n",
       "    <tr>\n",
       "      <th>10-20%</th>\n",
       "      <td>0.00</td>\n",
       "      <td>0.0</td>\n",
       "      <td>0.2</td>\n",
       "      <td>0.0</td>\n",
       "      <td>0.2</td>\n",
       "      <td>0.666667</td>\n",
       "      <td>0.0</td>\n",
       "      <td>0.2</td>\n",
       "      <td>0.158333</td>\n",
       "      <td>0.213275</td>\n",
       "    </tr>\n",
       "    <tr>\n",
       "      <th>20-30%</th>\n",
       "      <td>0.50</td>\n",
       "      <td>0.2</td>\n",
       "      <td>0.4</td>\n",
       "      <td>0.0</td>\n",
       "      <td>0.2</td>\n",
       "      <td>0.000000</td>\n",
       "      <td>0.5</td>\n",
       "      <td>0.0</td>\n",
       "      <td>0.225000</td>\n",
       "      <td>0.204634</td>\n",
       "    </tr>\n",
       "    <tr>\n",
       "      <th>30-40%</th>\n",
       "      <td>0.00</td>\n",
       "      <td>0.0</td>\n",
       "      <td>0.0</td>\n",
       "      <td>0.0</td>\n",
       "      <td>0.0</td>\n",
       "      <td>0.000000</td>\n",
       "      <td>0.0</td>\n",
       "      <td>0.0</td>\n",
       "      <td>0.000000</td>\n",
       "      <td>0.000000</td>\n",
       "    </tr>\n",
       "    <tr>\n",
       "      <th>40-50%</th>\n",
       "      <td>0.25</td>\n",
       "      <td>0.0</td>\n",
       "      <td>0.0</td>\n",
       "      <td>0.5</td>\n",
       "      <td>0.0</td>\n",
       "      <td>0.000000</td>\n",
       "      <td>0.0</td>\n",
       "      <td>0.0</td>\n",
       "      <td>0.093750</td>\n",
       "      <td>0.173993</td>\n",
       "    </tr>\n",
       "  </tbody>\n",
       "</table>\n",
       "</div>"
      ],
      "text/plain": [
       "        DPI 1  DPI 2  DPI 3  DPI 4  DPI 5     DPI 6  DPI 7  DPI 8       avg  \\\n",
       "3-10%    0.00    0.8    0.4    0.0    0.6  0.333333    0.5    0.6  0.404167   \n",
       "10-20%   0.00    0.0    0.2    0.0    0.2  0.666667    0.0    0.2  0.158333   \n",
       "20-30%   0.50    0.2    0.4    0.0    0.2  0.000000    0.5    0.0  0.225000   \n",
       "30-40%   0.00    0.0    0.0    0.0    0.0  0.000000    0.0    0.0  0.000000   \n",
       "40-50%   0.25    0.0    0.0    0.5    0.0  0.000000    0.0    0.0  0.093750   \n",
       "\n",
       "             std  \n",
       "3-10%   0.267933  \n",
       "10-20%  0.213275  \n",
       "20-30%  0.204634  \n",
       "30-40%  0.000000  \n",
       "40-50%  0.173993  "
      ]
     },
     "execution_count": 149,
     "metadata": {},
     "output_type": "execute_result"
    }
   ],
   "source": [
    "df2.columns = ['DPI 1', 'DPI 2', 'DPI 3', 'DPI 4', 'DPI 5', 'DPI 6', 'DPI 7', 'DPI 8', 'avg', 'std']\n",
    "df2"
   ]
  },
  {
   "cell_type": "code",
   "execution_count": 150,
   "metadata": {
    "scrolled": true
   },
   "outputs": [
    {
     "data": {
      "text/html": [
       "<div>\n",
       "<style scoped>\n",
       "    .dataframe tbody tr th:only-of-type {\n",
       "        vertical-align: middle;\n",
       "    }\n",
       "\n",
       "    .dataframe tbody tr th {\n",
       "        vertical-align: top;\n",
       "    }\n",
       "\n",
       "    .dataframe thead th {\n",
       "        text-align: right;\n",
       "    }\n",
       "</style>\n",
       "<table border=\"1\" class=\"dataframe\">\n",
       "  <thead>\n",
       "    <tr style=\"text-align: right;\">\n",
       "      <th></th>\n",
       "      <th>DPI 1</th>\n",
       "      <th>DPI 2</th>\n",
       "      <th>DPI 3</th>\n",
       "      <th>DPI 4</th>\n",
       "      <th>DPI 5</th>\n",
       "      <th>DPI 7</th>\n",
       "      <th>DPI 8</th>\n",
       "      <th>avg</th>\n",
       "      <th>std</th>\n",
       "    </tr>\n",
       "  </thead>\n",
       "  <tbody>\n",
       "    <tr>\n",
       "      <th>3-10%</th>\n",
       "      <td>0.333333</td>\n",
       "      <td>0.500000</td>\n",
       "      <td>0.5</td>\n",
       "      <td>0.666667</td>\n",
       "      <td>0.2</td>\n",
       "      <td>0.500000</td>\n",
       "      <td>0.0</td>\n",
       "      <td>0.385714</td>\n",
       "      <td>0.208439</td>\n",
       "    </tr>\n",
       "    <tr>\n",
       "      <th>10-20%</th>\n",
       "      <td>0.000000</td>\n",
       "      <td>0.166667</td>\n",
       "      <td>0.0</td>\n",
       "      <td>0.000000</td>\n",
       "      <td>0.0</td>\n",
       "      <td>0.166667</td>\n",
       "      <td>0.0</td>\n",
       "      <td>0.047619</td>\n",
       "      <td>0.075292</td>\n",
       "    </tr>\n",
       "    <tr>\n",
       "      <th>20-30%</th>\n",
       "      <td>0.333333</td>\n",
       "      <td>0.333333</td>\n",
       "      <td>0.5</td>\n",
       "      <td>0.000000</td>\n",
       "      <td>0.6</td>\n",
       "      <td>0.333333</td>\n",
       "      <td>0.0</td>\n",
       "      <td>0.300000</td>\n",
       "      <td>0.211570</td>\n",
       "    </tr>\n",
       "    <tr>\n",
       "      <th>30-40%</th>\n",
       "      <td>0.333333</td>\n",
       "      <td>0.000000</td>\n",
       "      <td>0.0</td>\n",
       "      <td>0.000000</td>\n",
       "      <td>0.0</td>\n",
       "      <td>0.000000</td>\n",
       "      <td>0.0</td>\n",
       "      <td>0.047619</td>\n",
       "      <td>0.116642</td>\n",
       "    </tr>\n",
       "    <tr>\n",
       "      <th>40-50%</th>\n",
       "      <td>0.000000</td>\n",
       "      <td>0.000000</td>\n",
       "      <td>0.0</td>\n",
       "      <td>0.000000</td>\n",
       "      <td>0.2</td>\n",
       "      <td>0.000000</td>\n",
       "      <td>0.0</td>\n",
       "      <td>0.028571</td>\n",
       "      <td>0.069985</td>\n",
       "    </tr>\n",
       "  </tbody>\n",
       "</table>\n",
       "</div>"
      ],
      "text/plain": [
       "           DPI 1     DPI 2  DPI 3     DPI 4  DPI 5     DPI 7  DPI 8       avg  \\\n",
       "3-10%   0.333333  0.500000    0.5  0.666667    0.2  0.500000    0.0  0.385714   \n",
       "10-20%  0.000000  0.166667    0.0  0.000000    0.0  0.166667    0.0  0.047619   \n",
       "20-30%  0.333333  0.333333    0.5  0.000000    0.6  0.333333    0.0  0.300000   \n",
       "30-40%  0.333333  0.000000    0.0  0.000000    0.0  0.000000    0.0  0.047619   \n",
       "40-50%  0.000000  0.000000    0.0  0.000000    0.2  0.000000    0.0  0.028571   \n",
       "\n",
       "             std  \n",
       "3-10%   0.208439  \n",
       "10-20%  0.075292  \n",
       "20-30%  0.211570  \n",
       "30-40%  0.116642  \n",
       "40-50%  0.069985  "
      ]
     },
     "execution_count": 150,
     "metadata": {},
     "output_type": "execute_result"
    }
   ],
   "source": [
    "df3.columns = ['DPI 1', 'DPI 2', 'DPI 3', 'DPI 4', 'DPI 5', 'DPI 7', 'DPI 8', 'avg', 'std']\n",
    "df3"
   ]
  },
  {
   "cell_type": "code",
   "execution_count": 151,
   "metadata": {},
   "outputs": [
    {
     "data": {
      "text/html": [
       "<div>\n",
       "<style scoped>\n",
       "    .dataframe tbody tr th:only-of-type {\n",
       "        vertical-align: middle;\n",
       "    }\n",
       "\n",
       "    .dataframe tbody tr th {\n",
       "        vertical-align: top;\n",
       "    }\n",
       "\n",
       "    .dataframe thead th {\n",
       "        text-align: right;\n",
       "    }\n",
       "</style>\n",
       "<table border=\"1\" class=\"dataframe\">\n",
       "  <thead>\n",
       "    <tr style=\"text-align: right;\">\n",
       "      <th></th>\n",
       "      <th>bin</th>\n",
       "      <th>expected</th>\n",
       "    </tr>\n",
       "  </thead>\n",
       "  <tbody>\n",
       "    <tr>\n",
       "      <th>0</th>\n",
       "      <td>3-10%</td>\n",
       "      <td>0.427941</td>\n",
       "    </tr>\n",
       "    <tr>\n",
       "      <th>1</th>\n",
       "      <td>10-20%</td>\n",
       "      <td>0.246373</td>\n",
       "    </tr>\n",
       "    <tr>\n",
       "      <th>2</th>\n",
       "      <td>20-30%</td>\n",
       "      <td>0.144119</td>\n",
       "    </tr>\n",
       "    <tr>\n",
       "      <th>3</th>\n",
       "      <td>30-40%</td>\n",
       "      <td>0.102254</td>\n",
       "    </tr>\n",
       "    <tr>\n",
       "      <th>4</th>\n",
       "      <td>40-50%</td>\n",
       "      <td>0.079314</td>\n",
       "    </tr>\n",
       "  </tbody>\n",
       "</table>\n",
       "</div>"
      ],
      "text/plain": [
       "      bin  expected\n",
       "0   3-10%  0.427941\n",
       "1  10-20%  0.246373\n",
       "2  20-30%  0.144119\n",
       "3  30-40%  0.102254\n",
       "4  40-50%  0.079314"
      ]
     },
     "execution_count": 151,
     "metadata": {},
     "output_type": "execute_result"
    }
   ],
   "source": [
    "neutral_df"
   ]
  },
  {
   "cell_type": "markdown",
   "metadata": {},
   "source": [
    "### Mann Whitney U test to compare differences in SNP frequencies between each index cats the neutral expectation\n",
    "\n",
    "#### This seems like a better option than an unpaired t-test, because these data are not normally distributed \n",
    "\n",
    "The neutral expectation bins are outlined above.  \n",
    "\n",
    "I am going to generate a comparator group by randomly generating x SNPs per bin where x = # of SNPs in the index cat * % SNPs expected to fall in that bin. I'll use a random number generator to generate the exact frequencies. Then I'll assign each of these series to a variable and compare these variables by Python stats Mann Whitney U package \n",
    "\n",
    "\n",
    "I'll compare each index cat seperately and then I'll also combine all three and compare the groups. \n"
   ]
  },
  {
   "cell_type": "code",
   "execution_count": 152,
   "metadata": {},
   "outputs": [
    {
     "name": "stdout",
     "output_type": "stream",
     "text": [
      "31\n"
     ]
    }
   ],
   "source": [
    "cat1 = pd.read_csv('../data_derived/cleaned/cat1_snps_over_time.csv', sep='\\t')\n",
    "cat1 = cat1[['DPI 1', 'DPI 2', 'DPI 3', 'DPI 4', 'DPI 5', 'DPI 6', 'DPI 7', 'DPI 8']]\n",
    "cat1 = cat1.apply(lambda x: [y if y <= 0.5 else '' for y in x])\n",
    "cat1 = cat1.replace('', np.nan, regex=True)              \n",
    "print(cat1.count().sum()) # number of variants across all timepoints in index cat 1 that are ≤0.5 freq\n",
    "\n",
    "cat1_freqs_1 = cat1['DPI 1'].tolist()\n",
    "cat1_freqs_2 = cat1['DPI 2'].tolist()\n",
    "cat1_freqs_3 = cat1['DPI 3'].tolist()\n",
    "cat1_freqs_4 = cat1['DPI 4'].tolist()\n",
    "cat1_freqs_5 = cat1['DPI 5'].tolist()\n",
    "cat1_freqs_6 = cat1['DPI 6'].tolist()\n",
    "cat1_freqs_7 = cat1['DPI 7'].tolist()\n",
    "cat1_freqs_8 = cat1['DPI 8'].tolist()\n",
    "cat1_freqs = cat1_freqs_1 + cat1_freqs_2 + cat1_freqs_3 + cat1_freqs_4 + cat1_freqs_5 + cat1_freqs_6 + cat1_freqs_7 + cat1_freqs_8\n",
    "cat1_freqs = [x for x in cat1_freqs if str(x) != 'nan']\n",
    "\n",
    "# cat1_freqs\n",
    "#"
   ]
  },
  {
   "cell_type": "code",
   "execution_count": 153,
   "metadata": {},
   "outputs": [
    {
     "name": "stdout",
     "output_type": "stream",
     "text": [
      "41\n"
     ]
    }
   ],
   "source": [
    "cat2 = pd.read_csv('../data_derived/cleaned/cat2_snps_over_time.csv', sep='\\t')\n",
    "cat2 = cat2[['DPI 1', 'DPI 2', 'DPI 3', 'DPI 4', 'DPI 5', 'DPI 6', 'DPI 7', 'DPI 8']]\n",
    "cat2 = cat2.apply(lambda x: [y if y <= 0.5 else '' for y in x])\n",
    "cat2 = cat2.replace('', np.nan, regex=True)              \n",
    "print(cat2.count().sum()) # number of variants across all timepoints in index cat 1 that are ≤0.5 freq\n",
    "\n",
    "cat2_freqs_1 = cat2['DPI 1'].tolist()\n",
    "cat2_freqs_2 = cat2['DPI 2'].tolist()\n",
    "cat2_freqs_3 = cat2['DPI 3'].tolist()\n",
    "cat2_freqs_4 = cat2['DPI 4'].tolist()\n",
    "cat2_freqs_5 = cat2['DPI 5'].tolist()\n",
    "cat2_freqs_6 = cat2['DPI 6'].tolist()\n",
    "cat2_freqs_7 = cat2['DPI 7'].tolist()\n",
    "cat2_freqs_8 = cat2['DPI 8'].tolist()\n",
    "cat2_freqs = cat2_freqs_1 + cat2_freqs_2 + cat2_freqs_3 + cat2_freqs_4 + cat2_freqs_5 + cat2_freqs_6 + cat2_freqs_7 + cat2_freqs_8\n",
    "cat2_freqs = [x for x in cat2_freqs if str(x) != 'nan']\n",
    "\n",
    "# cat2_freqs\n",
    "#"
   ]
  },
  {
   "cell_type": "code",
   "execution_count": 154,
   "metadata": {},
   "outputs": [
    {
     "name": "stdout",
     "output_type": "stream",
     "text": [
      "37\n"
     ]
    }
   ],
   "source": [
    "cat3 = pd.read_csv('../data_derived/cleaned/cat3_snps_over_time.csv', sep='\\t')\n",
    "cat3 = cat3[['DPI 1', 'DPI 2', 'DPI 3', 'DPI 4', 'DPI 5', 'DPI 7', 'DPI 8']]\n",
    "cat3 = cat3.apply(lambda x: [y if y <= 0.5 else '' for y in x])\n",
    "cat3 = cat3.replace('', np.nan, regex=True)              \n",
    "print(cat3.count().sum()) # number of variants across all timepoints in index cat 1 that are ≤0.5 freq\n",
    "\n",
    "cat3_freqs_1 = cat3['DPI 1'].tolist()\n",
    "cat3_freqs_2 = cat3['DPI 2'].tolist()\n",
    "cat3_freqs_3 = cat3['DPI 3'].tolist()\n",
    "cat3_freqs_4 = cat3['DPI 4'].tolist()\n",
    "cat3_freqs_5 = cat3['DPI 5'].tolist()\n",
    "# cat3_freqs_6 = cat3['DPI 6'].tolist()\n",
    "cat3_freqs_7 = cat3['DPI 7'].tolist()\n",
    "cat3_freqs_8 = cat3['DPI 8'].tolist()\n",
    "cat3_freqs = cat3_freqs_1 + cat3_freqs_2 + cat3_freqs_3 + cat3_freqs_4 + cat3_freqs_5 + cat3_freqs_7 + cat3_freqs_8\n",
    "cat3_freqs = [x for x in cat3_freqs if str(x) != 'nan']\n",
    "\n",
    "# cat3_freqs\n",
    "#"
   ]
  },
  {
   "cell_type": "code",
   "execution_count": 155,
   "metadata": {},
   "outputs": [
    {
     "data": {
      "text/html": [
       "<div>\n",
       "<style scoped>\n",
       "    .dataframe tbody tr th:only-of-type {\n",
       "        vertical-align: middle;\n",
       "    }\n",
       "\n",
       "    .dataframe tbody tr th {\n",
       "        vertical-align: top;\n",
       "    }\n",
       "\n",
       "    .dataframe thead th {\n",
       "        text-align: right;\n",
       "    }\n",
       "</style>\n",
       "<table border=\"1\" class=\"dataframe\">\n",
       "  <thead>\n",
       "    <tr style=\"text-align: right;\">\n",
       "      <th></th>\n",
       "      <th>bin</th>\n",
       "      <th>expected</th>\n",
       "      <th>cat_1_expectation</th>\n",
       "      <th>cat_2_expectation</th>\n",
       "      <th>cat_3_expectation</th>\n",
       "    </tr>\n",
       "  </thead>\n",
       "  <tbody>\n",
       "    <tr>\n",
       "      <th>0</th>\n",
       "      <td>3-10%</td>\n",
       "      <td>0.427941</td>\n",
       "      <td>13.0</td>\n",
       "      <td>18.0</td>\n",
       "      <td>16.0</td>\n",
       "    </tr>\n",
       "    <tr>\n",
       "      <th>1</th>\n",
       "      <td>10-20%</td>\n",
       "      <td>0.246373</td>\n",
       "      <td>8.0</td>\n",
       "      <td>10.0</td>\n",
       "      <td>9.0</td>\n",
       "    </tr>\n",
       "    <tr>\n",
       "      <th>2</th>\n",
       "      <td>20-30%</td>\n",
       "      <td>0.144119</td>\n",
       "      <td>4.0</td>\n",
       "      <td>6.0</td>\n",
       "      <td>5.0</td>\n",
       "    </tr>\n",
       "    <tr>\n",
       "      <th>3</th>\n",
       "      <td>30-40%</td>\n",
       "      <td>0.102254</td>\n",
       "      <td>3.0</td>\n",
       "      <td>4.0</td>\n",
       "      <td>4.0</td>\n",
       "    </tr>\n",
       "    <tr>\n",
       "      <th>4</th>\n",
       "      <td>40-50%</td>\n",
       "      <td>0.079314</td>\n",
       "      <td>2.0</td>\n",
       "      <td>3.0</td>\n",
       "      <td>3.0</td>\n",
       "    </tr>\n",
       "  </tbody>\n",
       "</table>\n",
       "</div>"
      ],
      "text/plain": [
       "      bin  expected  cat_1_expectation  cat_2_expectation  cat_3_expectation\n",
       "0   3-10%  0.427941               13.0               18.0               16.0\n",
       "1  10-20%  0.246373                8.0               10.0                9.0\n",
       "2  20-30%  0.144119                4.0                6.0                5.0\n",
       "3  30-40%  0.102254                3.0                4.0                4.0\n",
       "4  40-50%  0.079314                2.0                3.0                3.0"
      ]
     },
     "execution_count": 155,
     "metadata": {},
     "output_type": "execute_result"
    }
   ],
   "source": [
    "# prep neutral df for each index cat\n",
    "\n",
    "neutral_df['cat_1_expectation'] = neutral_df['expected'] * 31 \n",
    "neutral_df['cat_2_expectation'] = neutral_df['expected'] * 41\n",
    "neutral_df['cat_3_expectation'] = neutral_df['expected'] * 37\n",
    "\n",
    "neutral_df['cat_1_expectation'] = neutral_df['cat_1_expectation'].round() # rounded to nearest integer\n",
    "neutral_df['cat_2_expectation'] = neutral_df['cat_2_expectation'].round() # rounded to nearest integer\n",
    "neutral_df['cat_3_expectation'] = neutral_df['cat_3_expectation'].round() # rounded to nearest integer\n",
    "\n",
    "neutral_df"
   ]
  },
  {
   "cell_type": "markdown",
   "metadata": {},
   "source": [
    "### generate the appropriate number of random frequencies for each bin \n",
    "\n",
    "```python\n",
    "cat1_bin1 = []\n",
    "cat1_bin2 = []\n",
    "cat1_bin3 = []\n",
    "cat1_bin4 = []\n",
    "cat1_bin5 = []\n",
    "\n",
    "for i in range(13):\n",
    "    x = random.uniform(0.03, 0.1)\n",
    "    cat1_bin1.append(x)\n",
    "    \n",
    "for i in range(8):\n",
    "    x = random.uniform(0.1, 0.2)\n",
    "    cat1_bin2.append(x)\n",
    "    \n",
    "for i in range(4):\n",
    "    x = random.uniform(0.2, 0.3)\n",
    "    cat1_bin3.append(x)\n",
    "    \n",
    "for i in range(3):\n",
    "    x = random.uniform(0.3, 0.4)\n",
    "    cat1_bin4.append(x)\n",
    "    \n",
    "for i in range(2):\n",
    "    x = random.uniform(0.4, 0.5)\n",
    "    cat1_bin5.append(x)\n",
    "\n",
    "cat1_neutral_list = cat1_bin1 + cat1_bin2 + cat1_bin3 + cat1_bin4 + cat1_bin5\n",
    "print(cat1_neutral_list)\n",
    "```\n",
    "\n",
    "### output: \n",
    "\n",
    "```[0.07698864058730442, 0.06907070774520115, 0.04252112549693264, 0.045867357179605356, 0.09628908039219804, 0.03023834014562196, 0.0808301951244043, 0.09505364691175908, 0.07870722926699669, 0.03875491980111327, 0.05375960984732234, 0.050637931923785615, 0.047540042055479376, 0.10505452119574404, 0.10762370410500366, 0.15013890714238765, 0.1316979753985985, 0.1014318887296599, 0.14454090183116444, 0.18979197373540987, 0.18020076882092423, 0.2776805449485146, 0.25042538998936914, 0.21771546797808705, 0.2459240584576613, 0.3210670097188366, 0.3832676142958778, 0.39606233549582365, 0.468650157396102, 0.44108406416654167]```"
   ]
  },
  {
   "cell_type": "markdown",
   "metadata": {},
   "source": [
    "### generate the appropriate number of random frequencies for each bin \n",
    "\n",
    "```python\n",
    "cat2_bin1 = []\n",
    "cat2_bin2 = []\n",
    "cat2_bin3 = []\n",
    "cat2_bin4 = []\n",
    "cat2_bin5 = []\n",
    "\n",
    "for i in range(18):\n",
    "    x = random.uniform(0.03, 0.1)\n",
    "    cat2_bin1.append(x)\n",
    "    \n",
    "for i in range(10):\n",
    "    x = random.uniform(0.1, 0.2)\n",
    "    cat2_bin2.append(x)\n",
    "    \n",
    "for i in range(6):\n",
    "    x = random.uniform(0.2, 0.3)\n",
    "    cat2_bin3.append(x)\n",
    "    \n",
    "for i in range(4):\n",
    "    x = random.uniform(0.3, 0.4)\n",
    "    cat2_bin4.append(x)\n",
    "    \n",
    "for i in range(3):\n",
    "    x = random.uniform(0.4, 0.5)\n",
    "    cat2_bin5.append(x)\n",
    "\n",
    "cat2_neutral_list = cat2_bin1 + cat2_bin2 + cat2_bin3 + cat2_bin4 + cat2_bin5\n",
    "print(cat2_neutral_list)\n",
    "```\n",
    "\n",
    "### output\n",
    "\n",
    "```[0.04891158510051859, 0.09214714640402114, 0.06294603779580096, 0.037838483108250345, 0.06252240348784174, 0.04803812945729579, 0.07076612046199164, 0.045051418923596216, 0.05488887578432743, 0.05513482093880457, 0.08036732594652048, 0.04556615694986368, 0.03693920549082785, 0.06074140219958897, 0.03521046259139706, 0.07709056133230838, 0.09357610234711126, 0.08333029005314373, 0.1151167805142877, 0.10077489648623138, 0.17357246159006254, 0.10720009256850388, 0.13813260947069883, 0.15765467152884471, 0.15428349253224047, 0.15080572854596772, 0.12387502869461753, 0.17777491917335997, 0.22235139309709295, 0.2761762542365467, 0.2654070535988235, 0.2548421367098734, 0.2232373946705313, 0.24020857109537924, 0.3753010699797005, 0.34081602755398077, 0.3766836421787545, 0.37174887928347844, 0.41130419566966997, 0.45563678416878967, 0.459958744031452]```"
   ]
  },
  {
   "cell_type": "markdown",
   "metadata": {},
   "source": [
    "### generate the appropriate number of random frequencies for each bin \n",
    "\n",
    "```python\n",
    "cat3_bin1 = []\n",
    "cat3_bin2 = []\n",
    "cat3_bin3 = []\n",
    "cat3_bin4 = []\n",
    "cat3_bin5 = []\n",
    "\n",
    "for i in range(16):\n",
    "    x = random.uniform(0.03, 0.1)\n",
    "    cat3_bin1.append(x)\n",
    "    \n",
    "for i in range(9):\n",
    "    x = random.uniform(0.1, 0.2)\n",
    "    cat3_bin2.append(x)\n",
    "    \n",
    "for i in range(5):\n",
    "    x = random.uniform(0.2, 0.3)\n",
    "    cat3_bin3.append(x)\n",
    "    \n",
    "for i in range(4):\n",
    "    x = random.uniform(0.3, 0.4)\n",
    "    cat3_bin4.append(x)\n",
    "    \n",
    "for i in range(3):\n",
    "    x = random.uniform(0.4, 0.5)\n",
    "    cat3_bin5.append(x)\n",
    "\n",
    "cat3_neutral_list = cat3_bin1 + cat3_bin2 + cat3_bin3 + cat3_bin4 + cat3_bin5\n",
    "print(cat3_neutral_list)\n",
    "```\n",
    "\n",
    "### output\n",
    "```[0.03606190963645916, 0.053403068865592776, 0.07598890436717312, 0.07720444951832245, 0.09415646432355458, 0.04900729893987827, 0.07494660490592159, 0.09670485775874042, 0.03263630598291639, 0.08224589965055937, 0.04739183308123368, 0.03190422627253495, 0.07375615049100535, 0.044587934922818866, 0.0721706127123655, 0.05136899249022911, 0.18382786789720332, 0.1780706744263295, 0.10340172644957056, 0.1494649548357394, 0.15674475781540267, 0.17356239999362488, 0.1494355732536636, 0.1377151116861558, 0.13282882965818396, 0.23578730555269228, 0.28754949485897613, 0.2183548639909247, 0.2902433845369799, 0.21725833329991834, 0.34490969263903637, 0.33152106870102727, 0.36359971331521745, 0.34350784079732133, 0.4454515198813996, 0.4605473515268494, 0.4372331763473557]```"
   ]
  },
  {
   "cell_type": "markdown",
   "metadata": {},
   "source": [
    "### this runs the mann whitney u test for cat 1\n",
    "```python\n",
    "stats.mannwhitneyu(cat1_freqs, cat1_neutral_list)\n",
    "```\n",
    "### output\n",
    "MannwhitneyuResult(statistic=421.0, pvalue=0.2651521190555201)"
   ]
  },
  {
   "cell_type": "markdown",
   "metadata": {},
   "source": [
    "### this runs the mann whitney u test for cat 2\n",
    "```python\n",
    "stats.mannwhitneyu(cat2_freqs, cat2_neutral_list)\n",
    "```\n",
    "### output\n",
    "MannwhitneyuResult(statistic=665.0, pvalue=0.05229979581185574)"
   ]
  },
  {
   "cell_type": "markdown",
   "metadata": {},
   "source": [
    "### this runs the mann whitney u test for cat 3\n",
    "```python\n",
    "stats.mannwhitneyu(cat3_freqs, cat3_neutral_list)\n",
    "```\n",
    "\n",
    "### \n",
    "MannwhitneyuResult(statistic=592.0, pvalue=0.15996673877611733)"
   ]
  },
  {
   "cell_type": "markdown",
   "metadata": {},
   "source": [
    "## compare distribution of variants in index vs contact cats"
   ]
  },
  {
   "cell_type": "code",
   "execution_count": 191,
   "metadata": {},
   "outputs": [
    {
     "name": "stdout",
     "output_type": "stream",
     "text": [
      "38\n"
     ]
    }
   ],
   "source": [
    "cat1 = pd.read_csv('../data_derived/cleaned/cat1_snps_over_time.csv', sep='\\t')\n",
    "cat1 = cat1[['DPI 1', 'DPI 2', 'DPI 3', 'DPI 4', 'DPI 5', 'DPI 6', 'DPI 7', 'DPI 8']]\n",
    "# cat1 = cat1.apply(lambda x: [y if y <= 0.5 else '' for y in x])\n",
    "cat1 = cat1.replace('', np.nan, regex=True)\n",
    "cat1\n",
    "print(cat1.count().sum()) # number of variants across all timepoints in index cat 1 that are ≤0.5 freq\n",
    "\n",
    "cat1_freqs_1 = cat1['DPI 1'].tolist()\n",
    "cat1_freqs_2 = cat1['DPI 2'].tolist()\n",
    "cat1_freqs_3 = cat1['DPI 3'].tolist()\n",
    "cat1_freqs_4 = cat1['DPI 4'].tolist()\n",
    "cat1_freqs_5 = cat1['DPI 5'].tolist()\n",
    "cat1_freqs_6 = cat1['DPI 6'].tolist()\n",
    "cat1_freqs_7 = cat1['DPI 7'].tolist()\n",
    "cat1_freqs_8 = cat1['DPI 8'].tolist()\n",
    "cat1_freqs = cat1_freqs_1 + cat1_freqs_2 + cat1_freqs_3 + cat1_freqs_4 + cat1_freqs_5 + cat1_freqs_6 + cat1_freqs_7 + cat1_freqs_8\n",
    "cat1_freqs = [x for x in cat1_freqs if str(x) != 'nan']\n",
    "\n",
    "# cat1_freqs\n",
    "#"
   ]
  },
  {
   "cell_type": "code",
   "execution_count": 192,
   "metadata": {},
   "outputs": [
    {
     "name": "stdout",
     "output_type": "stream",
     "text": [
      "44\n"
     ]
    }
   ],
   "source": [
    "cat2 = pd.read_csv('../data_derived/cleaned/cat2_snps_over_time.csv', sep='\\t')\n",
    "cat2 = cat2[['DPI 1', 'DPI 2', 'DPI 3', 'DPI 4', 'DPI 5', 'DPI 6', 'DPI 7', 'DPI 8']]\n",
    "# cat2 = cat2.apply(lambda x: [y if y <= 0.5 else '' for y in x])\n",
    "cat2 = cat2.replace('', np.nan, regex=True)              \n",
    "print(cat2.count().sum()) # number of variants across all timepoints in index cat 1 that are ≤0.5 freq\n",
    "\n",
    "cat2_freqs_1 = cat2['DPI 1'].tolist()\n",
    "cat2_freqs_2 = cat2['DPI 2'].tolist()\n",
    "cat2_freqs_3 = cat2['DPI 3'].tolist()\n",
    "cat2_freqs_4 = cat2['DPI 4'].tolist()\n",
    "cat2_freqs_5 = cat2['DPI 5'].tolist()\n",
    "cat2_freqs_6 = cat2['DPI 6'].tolist()\n",
    "cat2_freqs_7 = cat2['DPI 7'].tolist()\n",
    "cat2_freqs_8 = cat2['DPI 8'].tolist()\n",
    "cat2_freqs = cat2_freqs_1 + cat2_freqs_2 + cat2_freqs_3 + cat2_freqs_4 + cat2_freqs_5 + cat2_freqs_6 + cat2_freqs_7 + cat2_freqs_8\n",
    "cat2_freqs = [x for x in cat2_freqs if str(x) != 'nan']\n",
    "\n",
    "# cat2_freqs\n",
    "#"
   ]
  },
  {
   "cell_type": "code",
   "execution_count": 193,
   "metadata": {},
   "outputs": [
    {
     "name": "stdout",
     "output_type": "stream",
     "text": [
      "39\n"
     ]
    }
   ],
   "source": [
    "cat3 = pd.read_csv('../data_derived/cleaned/cat3_snps_over_time.csv', sep='\\t')\n",
    "cat3 = cat3[['DPI 1', 'DPI 2', 'DPI 3', 'DPI 4', 'DPI 5', 'DPI 7', 'DPI 8']]\n",
    "# cat3 = cat3.apply(lambda x: [y if y <= 0.5 else '' for y in x])\n",
    "cat3 = cat3.replace('', np.nan, regex=True)              \n",
    "print(cat3.count().sum()) # number of variants across all timepoints in index cat 1 that are ≤0.5 freq\n",
    "\n",
    "cat3_freqs_1 = cat3['DPI 1'].tolist()\n",
    "cat3_freqs_2 = cat3['DPI 2'].tolist()\n",
    "cat3_freqs_3 = cat3['DPI 3'].tolist()\n",
    "cat3_freqs_4 = cat3['DPI 4'].tolist()\n",
    "cat3_freqs_5 = cat3['DPI 5'].tolist()\n",
    "cat3_freqs_7 = cat3['DPI 7'].tolist()\n",
    "cat3_freqs_8 = cat3['DPI 8'].tolist()\n",
    "cat3_freqs = cat3_freqs_1 + cat3_freqs_2 + cat3_freqs_3 + cat3_freqs_4 + cat3_freqs_5 + cat3_freqs_7 + cat3_freqs_8\n",
    "cat3_freqs = [x for x in cat3_freqs if str(x) != 'nan']\n",
    "\n",
    "# cat3_freqs\n",
    "#"
   ]
  },
  {
   "cell_type": "code",
   "execution_count": 194,
   "metadata": {},
   "outputs": [
    {
     "name": "stdout",
     "output_type": "stream",
     "text": [
      "27\n"
     ]
    }
   ],
   "source": [
    "cat4 = pd.read_csv('../data_derived/cleaned/cat4_snps_over_time.csv', sep='\\t')\n",
    "cat4 = cat4[['DPI 3', 'DPI 4', 'DPI 5', 'DPI 6', 'DPI 7', 'DPI 8', 'DPI 9', 'DPI 10']]\n",
    "# cat4 = cat4.apply(lambda x: [y if y <= 0.5 else '' for y in x])\n",
    "cat4 = cat4.replace('', np.nan, regex=True)              \n",
    "print(cat4.count().sum()) # number of variants across all timepoints in index cat 1 that are ≤0.5 freq\n",
    "\n",
    "cat4_freqs_3 = cat4['DPI 3'].tolist()\n",
    "cat4_freqs_4 = cat4['DPI 4'].tolist()\n",
    "cat4_freqs_5 = cat4['DPI 5'].tolist()\n",
    "cat4_freqs_6 = cat4['DPI 6'].tolist()\n",
    "cat4_freqs_7 = cat4['DPI 7'].tolist()\n",
    "cat4_freqs_8 = cat4['DPI 8'].tolist()\n",
    "cat4_freqs_9 = cat4['DPI 9'].tolist()\n",
    "cat4_freqs_10 = cat4['DPI 10'].tolist()\n",
    "cat4_freqs = cat4_freqs_3 \n",
    "cat4_freqs = [x for x in cat4_freqs if str(x) != 'nan']\n",
    "\n",
    "# cat4_freqs\n",
    "#"
   ]
  },
  {
   "cell_type": "code",
   "execution_count": 195,
   "metadata": {},
   "outputs": [
    {
     "name": "stdout",
     "output_type": "stream",
     "text": [
      "35\n"
     ]
    }
   ],
   "source": [
    "cat5 = pd.read_csv('../data_derived/cleaned/cat5_snps_over_time.csv', sep='\\t')\n",
    "cat5 = cat5[['DPI 3', 'DPI 4', 'DPI 5', 'DPI 6', 'DPI 7', 'DPI 8', 'DPI 9', 'DPI 10']]\n",
    "# cat5 = cat5.apply(lambda x: [y if y <= 0.5 else '' for y in x])\n",
    "cat5 = cat5.replace('', np.nan, regex=True)              \n",
    "print(cat5.count().sum()) # number of variants across all timepoints in index cat 1 that are ≤0.5 freq\n",
    "\n",
    "cat5_freqs_3 = cat5['DPI 3'].tolist()\n",
    "cat5_freqs_4 = cat5['DPI 4'].tolist()\n",
    "cat5_freqs_5 = cat5['DPI 5'].tolist()\n",
    "cat5_freqs_6 = cat5['DPI 6'].tolist()\n",
    "cat5_freqs_7 = cat5['DPI 7'].tolist()\n",
    "cat5_freqs_8 = cat5['DPI 8'].tolist()\n",
    "cat5_freqs_9 = cat5['DPI 9'].tolist()\n",
    "cat5_freqs_10 = cat5['DPI 10'].tolist()\n",
    "cat5_freqs = cat5_freqs_3 + cat5_freqs_4 + cat5_freqs_5 + cat5_freqs_6 + cat5_freqs_7 + cat5_freqs_8 + cat5_freqs_9 + cat5_freqs_10 \n",
    "cat5_freqs = [x for x in cat5_freqs if str(x) != 'nan']\n",
    "\n",
    "# cat5_freqs\n",
    "#"
   ]
  },
  {
   "cell_type": "code",
   "execution_count": 196,
   "metadata": {},
   "outputs": [
    {
     "name": "stdout",
     "output_type": "stream",
     "text": [
      "8\n"
     ]
    }
   ],
   "source": [
    "cat6 = pd.read_csv('../data_derived/cleaned/cat6_snps_over_time.csv', sep='\\t')\n",
    "cat6 = cat6[['DPI 4', 'DPI 5', 'DPI 6', 'DPI 7', 'DPI 8', 'DPI 9', 'DPI 10']]\n",
    "# cat6 = cat6.apply(lambda x: [y if y <= 0.5 else '' for y in x])\n",
    "cat6 = cat6.replace('', np.nan, regex=True)              \n",
    "print(cat6.count().sum()) # number of variants across all timepoints in index cat 1 that are ≤0.5 freq\n",
    "\n",
    "cat6_freqs_4 = cat6['DPI 4'].tolist()\n",
    "cat6_freqs_5 = cat6['DPI 5'].tolist()\n",
    "cat6_freqs_6 = cat6['DPI 6'].tolist()\n",
    "cat6_freqs_7 = cat6['DPI 7'].tolist()\n",
    "cat6_freqs_8 = cat6['DPI 8'].tolist()\n",
    "cat6_freqs_9 = cat6['DPI 9'].tolist()\n",
    "cat6_freqs_10 = cat6['DPI 10'].tolist()\n",
    "cat6_freqs = cat6_freqs_4 + cat6_freqs_5 + cat6_freqs_6 + cat6_freqs_7 + cat6_freqs_8 + cat6_freqs_9 + cat6_freqs_10 \n",
    "cat6_freqs = [x for x in cat6_freqs if str(x) != 'nan']\n",
    "\n",
    "# cat6_freqs\n",
    "#"
   ]
  },
  {
   "cell_type": "code",
   "execution_count": 197,
   "metadata": {},
   "outputs": [
    {
     "data": {
      "text/plain": [
       "MannwhitneyuResult(statistic=66.0, pvalue=0.34196992280856164)"
      ]
     },
     "execution_count": 197,
     "metadata": {},
     "output_type": "execute_result"
    }
   ],
   "source": [
    "# this runs the mann whitney u test for cat 1 vs cat 4 (transmission pair 1)\n",
    "\n",
    "stats.mannwhitneyu(cat1_freqs, cat4_freqs)"
   ]
  },
  {
   "cell_type": "code",
   "execution_count": 198,
   "metadata": {},
   "outputs": [
    {
     "data": {
      "text/plain": [
       "MannwhitneyuResult(statistic=635.0, pvalue=0.0921559187466156)"
      ]
     },
     "execution_count": 198,
     "metadata": {},
     "output_type": "execute_result"
    }
   ],
   "source": [
    "# this runs the mann whitney u test for cat 2 vs cat 5 (transmission pair 2)\n",
    "\n",
    "stats.mannwhitneyu(cat2_freqs, cat5_freqs)"
   ]
  },
  {
   "cell_type": "code",
   "execution_count": 199,
   "metadata": {},
   "outputs": [
    {
     "data": {
      "text/plain": [
       "MannwhitneyuResult(statistic=97.5, pvalue=0.05031063372826307)"
      ]
     },
     "execution_count": 199,
     "metadata": {},
     "output_type": "execute_result"
    }
   ],
   "source": [
    "# this runs the mann whitney u test for cat 3 vs cat 6 (transmission pair 3)\n",
    "\n",
    "stats.mannwhitneyu(cat3_freqs, cat6_freqs)"
   ]
  },
  {
   "cell_type": "code",
   "execution_count": 200,
   "metadata": {},
   "outputs": [
    {
     "data": {
      "text/plain": [
       "MannwhitneyuResult(statistic=2383.5, pvalue=0.05221610802020331)"
      ]
     },
     "execution_count": 200,
     "metadata": {},
     "output_type": "execute_result"
    }
   ],
   "source": [
    "# compare all  vs all \n",
    "\n",
    "index_cat_freqs = cat1_freqs + cat2_freqs + cat3_freqs \n",
    "contact_cat_freqs = cat4_freqs + cat5_freqs + cat6_freqs \n",
    "\n",
    "stats.mannwhitneyu(index_cat_freqs, contact_cat_freqs)"
   ]
  },
  {
   "cell_type": "code",
   "execution_count": null,
   "metadata": {},
   "outputs": [],
   "source": []
  }
 ],
 "metadata": {
  "kernelspec": {
   "display_name": "Python 3",
   "language": "python",
   "name": "python3"
  },
  "language_info": {
   "codemirror_mode": {
    "name": "ipython",
    "version": 3
   },
   "file_extension": ".py",
   "mimetype": "text/x-python",
   "name": "python",
   "nbconvert_exporter": "python",
   "pygments_lexer": "ipython3",
   "version": "3.6.8"
  }
 },
 "nbformat": 4,
 "nbformat_minor": 4
}
